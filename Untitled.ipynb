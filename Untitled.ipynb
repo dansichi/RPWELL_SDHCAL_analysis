{
 "cells": [
  {
   "cell_type": "code",
   "execution_count": 1,
   "metadata": {},
   "outputs": [],
   "source": [
    "import uproot\n",
    "import pandas as pd\n",
    "from itertools import chain, product\n",
    "import time\n",
    "import matplotlib\n",
    "import matplotlib.pyplot as plt\n",
    "import numpy as np\n",
    "import scipy.stats as spstat\n",
    "from tqdm import tqdm_notebook as tqdm "
   ]
  },
  {
   "cell_type": "markdown",
   "metadata": {
    "heading_collapsed": true
   },
   "source": [
    "# Pad-clutering based on graph connectivity\n",
    "\n",
    "- Each node is a hit, defined by the x-y coordinate of the readout pad.\n",
    "- Node A is connected to node B, if the distance between them is 1 cm.\n",
    "- A is linked to B is there is a path of connected nodes from A to B."
   ]
  },
  {
   "cell_type": "code",
   "execution_count": 238,
   "metadata": {
    "hidden": true
   },
   "outputs": [
    {
     "name": "stdout",
     "output_type": "stream",
     "text": [
      "[[1 1]\n",
      " [1 2]\n",
      " [1 3]\n",
      " [1 4]\n",
      " [2 3]\n",
      " [6 5]]\n"
     ]
    }
   ],
   "source": [
    "x = np.array([1,1,1,1,2,6])\n",
    "y = np.array([1,2,3,4,3,5])\n",
    "p = np.dstack([x,y])[0]\n",
    "print(p)"
   ]
  },
  {
   "cell_type": "code",
   "execution_count": 28,
   "metadata": {
    "hidden": true
   },
   "outputs": [],
   "source": [
    "from scipy.spatial.distance import cdist "
   ]
  },
  {
   "cell_type": "code",
   "execution_count": null,
   "metadata": {
    "hidden": true
   },
   "outputs": [],
   "source": [
    "A = 0\n",
    "B = 2\n",
    "# creating a map of connections\n",
    "r = (cdist(p, p) == 1)\n",
    "print(r)\n",
    "connections = np.where(r)"
   ]
  },
  {
   "cell_type": "code",
   "execution_count": 10,
   "metadata": {
    "hidden": true
   },
   "outputs": [],
   "source": [
    "class cluster:\n",
    "    def __init__(self, x, y):\n",
    "        self._points = np.dstack([x,y])[0]\n",
    "        self._connections = np.where(cdist(self._points, self._points) == 1)\n",
    "    \n",
    "    def append(self, p):\n",
    "        self._points = np.append(self._points, np.array([p]), axis=0)\n",
    "        self._connections = np.where(cdist(self._points, self._points) == 1)\n",
    "    \n",
    "    def isLinked(self, a, b, history=np.array([])):\n",
    "        children = self._connections[1][self._connections[0] == a]\n",
    "        if children.shape[0] == 0:\n",
    "            return False\n",
    "        elif b in children:\n",
    "            return True\n",
    "        else:\n",
    "            children = np.setdiff1d(children,history)\n",
    "            ans = False\n",
    "\n",
    "            new_hist =  np.concatenate((children, history))\n",
    "            for child in children:\n",
    "                ans = ans or self.isLinked(child, b, new_hist)\n",
    "                if ans:\n",
    "                    return ans\n",
    "            return ans\n",
    "    \n",
    "    def seeding(self, p, radius=2):\n",
    "        return np.where(cdist(np.array([p]), self._points) < radius)[1]\n",
    "    \n",
    "    def cluster(self, p, radius=2):\n",
    "        source = seeding(p, radius)[0]\n",
    "        members = []\n",
    "        for i in range(cl._points.shape[1]):\n",
    "            if i == 0:\n",
    "                continue\n",
    "            if cl.isLinked(0,i):\n",
    "                members.append(cl._points[i])\n",
    "        return members"
   ]
  },
  {
   "cell_type": "code",
   "execution_count": 246,
   "metadata": {
    "hidden": true
   },
   "outputs": [],
   "source": [
    "cl = cluster(x,y)"
   ]
  },
  {
   "cell_type": "code",
   "execution_count": 249,
   "metadata": {
    "hidden": true
   },
   "outputs": [
    {
     "name": "stdout",
     "output_type": "stream",
     "text": [
      "[1 2]\n"
     ]
    }
   ],
   "source": [
    "for i in range(cl._points.shape[1]):\n",
    "    if i == 0:\n",
    "        continue\n",
    "    if cl.isLinked(0,i):\n",
    "        print(cl._points[i])"
   ]
  },
  {
   "cell_type": "code",
   "execution_count": 127,
   "metadata": {
    "hidden": true
   },
   "outputs": [
    {
     "ename": "ValueError",
     "evalue": "The truth value of an array with more than one element is ambiguous. Use a.any() or a.all()",
     "output_type": "error",
     "traceback": [
      "\u001b[0;31m---------------------------------------------------------------------------\u001b[0m",
      "\u001b[0;31mValueError\u001b[0m                                Traceback (most recent call last)",
      "\u001b[0;32m<ipython-input-127-37097dc637ff>\u001b[0m in \u001b[0;36m<module>\u001b[0;34m\u001b[0m\n\u001b[0;32m----> 1\u001b[0;31m \u001b[0mnp\u001b[0m\u001b[0;34m.\u001b[0m\u001b[0mdiff\u001b[0m\u001b[0;34m(\u001b[0m\u001b[0mx\u001b[0m\u001b[0;34m,\u001b[0m\u001b[0my\u001b[0m\u001b[0;34m)\u001b[0m\u001b[0;34m\u001b[0m\u001b[0;34m\u001b[0m\u001b[0m\n\u001b[0m",
      "\u001b[0;32m/Library/Frameworks/Python.framework/Versions/3.7/lib/python3.7/site-packages/numpy/lib/function_base.py\u001b[0m in \u001b[0;36mdiff\u001b[0;34m(a, n, axis, prepend, append)\u001b[0m\n\u001b[1;32m   1230\u001b[0m \u001b[0;34m\u001b[0m\u001b[0m\n\u001b[1;32m   1231\u001b[0m     \"\"\"\n\u001b[0;32m-> 1232\u001b[0;31m     \u001b[0;32mif\u001b[0m \u001b[0mn\u001b[0m \u001b[0;34m==\u001b[0m \u001b[0;36m0\u001b[0m\u001b[0;34m:\u001b[0m\u001b[0;34m\u001b[0m\u001b[0;34m\u001b[0m\u001b[0m\n\u001b[0m\u001b[1;32m   1233\u001b[0m         \u001b[0;32mreturn\u001b[0m \u001b[0ma\u001b[0m\u001b[0;34m\u001b[0m\u001b[0;34m\u001b[0m\u001b[0m\n\u001b[1;32m   1234\u001b[0m     \u001b[0;32mif\u001b[0m \u001b[0mn\u001b[0m \u001b[0;34m<\u001b[0m \u001b[0;36m0\u001b[0m\u001b[0;34m:\u001b[0m\u001b[0;34m\u001b[0m\u001b[0;34m\u001b[0m\u001b[0m\n",
      "\u001b[0;31mValueError\u001b[0m: The truth value of an array with more than one element is ambiguous. Use a.any() or a.all()"
     ]
    }
   ],
   "source": [
    "np.diff(x,y)"
   ]
  },
  {
   "cell_type": "code",
   "execution_count": 54,
   "metadata": {
    "hidden": true
   },
   "outputs": [
    {
     "data": {
      "text/plain": [
       "array([1, 2, 3, 4, 3, 5])"
      ]
     },
     "execution_count": 54,
     "metadata": {},
     "output_type": "execute_result"
    }
   ],
   "source": [
    "y"
   ]
  },
  {
   "cell_type": "code",
   "execution_count": 57,
   "metadata": {
    "hidden": true
   },
   "outputs": [
    {
     "data": {
      "text/plain": [
       "array([6])"
      ]
     },
     "execution_count": 57,
     "metadata": {},
     "output_type": "execute_result"
    }
   ],
   "source": [
    "np.setdiff1d(x,y)"
   ]
  },
  {
   "cell_type": "code",
   "execution_count": 65,
   "metadata": {
    "hidden": true
   },
   "outputs": [
    {
     "data": {
      "text/plain": [
       "True"
      ]
     },
     "execution_count": 65,
     "metadata": {},
     "output_type": "execute_result"
    }
   ],
   "source": [
    "bool(sum(r[0]))"
   ]
  },
  {
   "cell_type": "code",
   "execution_count": 75,
   "metadata": {
    "hidden": true
   },
   "outputs": [
    {
     "ename": "AttributeError",
     "evalue": "'numpy.ndarray' object has no attribute 'unique'",
     "output_type": "error",
     "traceback": [
      "\u001b[0;31m---------------------------------------------------------------------------\u001b[0m",
      "\u001b[0;31mAttributeError\u001b[0m                            Traceback (most recent call last)",
      "\u001b[0;32m<ipython-input-75-c9664ae5feea>\u001b[0m in \u001b[0;36m<module>\u001b[0;34m\u001b[0m\n\u001b[0;32m----> 1\u001b[0;31m \u001b[0mnp\u001b[0m\u001b[0;34m.\u001b[0m\u001b[0mconcatenate\u001b[0m\u001b[0;34m(\u001b[0m\u001b[0;34m(\u001b[0m\u001b[0mx\u001b[0m\u001b[0;34m,\u001b[0m\u001b[0my\u001b[0m\u001b[0;34m)\u001b[0m\u001b[0;34m)\u001b[0m\u001b[0;34m.\u001b[0m\u001b[0munique\u001b[0m\u001b[0;34m\u001b[0m\u001b[0;34m\u001b[0m\u001b[0m\n\u001b[0m",
      "\u001b[0;31mAttributeError\u001b[0m: 'numpy.ndarray' object has no attribute 'unique'"
     ]
    }
   ],
   "source": [
    "np.concatenate((x,y))"
   ]
  },
  {
   "cell_type": "code",
   "execution_count": 83,
   "metadata": {
    "hidden": true
   },
   "outputs": [
    {
     "data": {
      "text/plain": [
       "array([1, 1, 1, 1, 2])"
      ]
     },
     "execution_count": 83,
     "metadata": {},
     "output_type": "execute_result"
    }
   ],
   "source": [
    "np.delete(x,np.where(x == 6))"
   ]
  },
  {
   "cell_type": "code",
   "execution_count": 84,
   "metadata": {
    "hidden": true
   },
   "outputs": [
    {
     "data": {
      "text/plain": [
       "True"
      ]
     },
     "execution_count": 84,
     "metadata": {},
     "output_type": "execute_result"
    }
   ],
   "source": [
    "bool(2)"
   ]
  },
  {
   "cell_type": "code",
   "execution_count": 13,
   "metadata": {
    "hidden": true
   },
   "outputs": [],
   "source": [
    "df = pd.read_csv('debug_df_mips.csv')"
   ]
  },
  {
   "cell_type": "code",
   "execution_count": 148,
   "metadata": {
    "hidden": true
   },
   "outputs": [
    {
     "data": {
      "text/html": [
       "<div>\n",
       "<style scoped>\n",
       "    .dataframe tbody tr th:only-of-type {\n",
       "        vertical-align: middle;\n",
       "    }\n",
       "\n",
       "    .dataframe tbody tr th {\n",
       "        vertical-align: top;\n",
       "    }\n",
       "\n",
       "    .dataframe thead th {\n",
       "        text-align: right;\n",
       "    }\n",
       "</style>\n",
       "<table border=\"1\" class=\"dataframe\">\n",
       "  <thead>\n",
       "    <tr style=\"text-align: right;\">\n",
       "      <th></th>\n",
       "      <th>eventId</th>\n",
       "      <th>chbid</th>\n",
       "      <th>xpos</th>\n",
       "      <th>ypos</th>\n",
       "      <th>dt</th>\n",
       "      <th>digit</th>\n",
       "      <th>chipid</th>\n",
       "      <th>hardid</th>\n",
       "      <th>nhits</th>\n",
       "    </tr>\n",
       "  </thead>\n",
       "  <tbody>\n",
       "    <tr>\n",
       "      <td>0</td>\n",
       "      <td>11112018-2240-1_11112018-2240-1_1299</td>\n",
       "      <td>1</td>\n",
       "      <td>[26.0, 25.0]</td>\n",
       "      <td>[24.0, 24.0]</td>\n",
       "      <td>[15.0, 16.0]</td>\n",
       "      <td>[3, 3]</td>\n",
       "      <td>[4, 2]</td>\n",
       "      <td>[7, 0]</td>\n",
       "      <td>2</td>\n",
       "    </tr>\n",
       "    <tr>\n",
       "      <td>1</td>\n",
       "      <td>11112018-2240-1_11112018-2240-1_1299</td>\n",
       "      <td>2</td>\n",
       "      <td>[25.0]</td>\n",
       "      <td>[24.0]</td>\n",
       "      <td>[15.0]</td>\n",
       "      <td>[3]</td>\n",
       "      <td>[2]</td>\n",
       "      <td>[0]</td>\n",
       "      <td>1</td>\n",
       "    </tr>\n",
       "    <tr>\n",
       "      <td>2</td>\n",
       "      <td>11112018-2240-1_11112018-2240-1_1299</td>\n",
       "      <td>3</td>\n",
       "      <td>[25.0]</td>\n",
       "      <td>[24.0]</td>\n",
       "      <td>[16.0]</td>\n",
       "      <td>[2]</td>\n",
       "      <td>[2]</td>\n",
       "      <td>[0]</td>\n",
       "      <td>1</td>\n",
       "    </tr>\n",
       "    <tr>\n",
       "      <td>3</td>\n",
       "      <td>11112018-2240-1_11112018-2240-1_1299</td>\n",
       "      <td>4</td>\n",
       "      <td>[25.0]</td>\n",
       "      <td>[23.0]</td>\n",
       "      <td>[16.0]</td>\n",
       "      <td>[2]</td>\n",
       "      <td>[17]</td>\n",
       "      <td>[63]</td>\n",
       "      <td>1</td>\n",
       "    </tr>\n",
       "    <tr>\n",
       "      <td>4</td>\n",
       "      <td>11112018-2240-1_11112018-2240-1_1299</td>\n",
       "      <td>5</td>\n",
       "      <td>[25.0]</td>\n",
       "      <td>[23.0]</td>\n",
       "      <td>[16.0]</td>\n",
       "      <td>[2]</td>\n",
       "      <td>[17]</td>\n",
       "      <td>[63]</td>\n",
       "      <td>1</td>\n",
       "    </tr>\n",
       "    <tr>\n",
       "      <td>...</td>\n",
       "      <td>...</td>\n",
       "      <td>...</td>\n",
       "      <td>...</td>\n",
       "      <td>...</td>\n",
       "      <td>...</td>\n",
       "      <td>...</td>\n",
       "      <td>...</td>\n",
       "      <td>...</td>\n",
       "      <td>...</td>\n",
       "    </tr>\n",
       "    <tr>\n",
       "      <td>116</td>\n",
       "      <td>11112018-2240-1_11112018-2240-1_817</td>\n",
       "      <td>3</td>\n",
       "      <td>[26.0]</td>\n",
       "      <td>[28.0]</td>\n",
       "      <td>[14.0]</td>\n",
       "      <td>[2]</td>\n",
       "      <td>[3]</td>\n",
       "      <td>[39]</td>\n",
       "      <td>1</td>\n",
       "    </tr>\n",
       "    <tr>\n",
       "      <td>117</td>\n",
       "      <td>11112018-2240-1_11112018-2240-1_817</td>\n",
       "      <td>4</td>\n",
       "      <td>[26.0]</td>\n",
       "      <td>[28.0]</td>\n",
       "      <td>[13.0]</td>\n",
       "      <td>[1]</td>\n",
       "      <td>[11]</td>\n",
       "      <td>[52]</td>\n",
       "      <td>1</td>\n",
       "    </tr>\n",
       "    <tr>\n",
       "      <td>118</td>\n",
       "      <td>11112018-2240-1_11112018-2240-1_817</td>\n",
       "      <td>5</td>\n",
       "      <td>[26.0]</td>\n",
       "      <td>[28.0]</td>\n",
       "      <td>[14.0]</td>\n",
       "      <td>[2]</td>\n",
       "      <td>[11]</td>\n",
       "      <td>[52]</td>\n",
       "      <td>1</td>\n",
       "    </tr>\n",
       "    <tr>\n",
       "      <td>119</td>\n",
       "      <td>11112018-2240-1_11112018-2240-1_817</td>\n",
       "      <td>6</td>\n",
       "      <td>[26.0]</td>\n",
       "      <td>[28.0]</td>\n",
       "      <td>[15.0]</td>\n",
       "      <td>[3]</td>\n",
       "      <td>[11]</td>\n",
       "      <td>[52]</td>\n",
       "      <td>1</td>\n",
       "    </tr>\n",
       "    <tr>\n",
       "      <td>120</td>\n",
       "      <td>11112018-2240-1_11112018-2240-1_817</td>\n",
       "      <td>7</td>\n",
       "      <td>[26.0]</td>\n",
       "      <td>[28.0]</td>\n",
       "      <td>[14.0]</td>\n",
       "      <td>[2]</td>\n",
       "      <td>[11]</td>\n",
       "      <td>[52]</td>\n",
       "      <td>1</td>\n",
       "    </tr>\n",
       "  </tbody>\n",
       "</table>\n",
       "<p>121 rows × 9 columns</p>\n",
       "</div>"
      ],
      "text/plain": [
       "                                  eventId  chbid          xpos          ypos  \\\n",
       "0    11112018-2240-1_11112018-2240-1_1299      1  [26.0, 25.0]  [24.0, 24.0]   \n",
       "1    11112018-2240-1_11112018-2240-1_1299      2        [25.0]        [24.0]   \n",
       "2    11112018-2240-1_11112018-2240-1_1299      3        [25.0]        [24.0]   \n",
       "3    11112018-2240-1_11112018-2240-1_1299      4        [25.0]        [23.0]   \n",
       "4    11112018-2240-1_11112018-2240-1_1299      5        [25.0]        [23.0]   \n",
       "..                                    ...    ...           ...           ...   \n",
       "116   11112018-2240-1_11112018-2240-1_817      3        [26.0]        [28.0]   \n",
       "117   11112018-2240-1_11112018-2240-1_817      4        [26.0]        [28.0]   \n",
       "118   11112018-2240-1_11112018-2240-1_817      5        [26.0]        [28.0]   \n",
       "119   11112018-2240-1_11112018-2240-1_817      6        [26.0]        [28.0]   \n",
       "120   11112018-2240-1_11112018-2240-1_817      7        [26.0]        [28.0]   \n",
       "\n",
       "               dt   digit  chipid  hardid  nhits  \n",
       "0    [15.0, 16.0]  [3, 3]  [4, 2]  [7, 0]      2  \n",
       "1          [15.0]     [3]     [2]     [0]      1  \n",
       "2          [16.0]     [2]     [2]     [0]      1  \n",
       "3          [16.0]     [2]    [17]    [63]      1  \n",
       "4          [16.0]     [2]    [17]    [63]      1  \n",
       "..            ...     ...     ...     ...    ...  \n",
       "116        [14.0]     [2]     [3]    [39]      1  \n",
       "117        [13.0]     [1]    [11]    [52]      1  \n",
       "118        [14.0]     [2]    [11]    [52]      1  \n",
       "119        [15.0]     [3]    [11]    [52]      1  \n",
       "120        [14.0]     [2]    [11]    [52]      1  \n",
       "\n",
       "[121 rows x 9 columns]"
      ]
     },
     "execution_count": 148,
     "metadata": {},
     "output_type": "execute_result"
    }
   ],
   "source": [
    "df"
   ]
  },
  {
   "cell_type": "code",
   "execution_count": 150,
   "metadata": {
    "hidden": true
   },
   "outputs": [
    {
     "data": {
      "text/html": [
       "<div>\n",
       "<style scoped>\n",
       "    .dataframe tbody tr th:only-of-type {\n",
       "        vertical-align: middle;\n",
       "    }\n",
       "\n",
       "    .dataframe tbody tr th {\n",
       "        vertical-align: top;\n",
       "    }\n",
       "\n",
       "    .dataframe thead th {\n",
       "        text-align: right;\n",
       "    }\n",
       "</style>\n",
       "<table border=\"1\" class=\"dataframe\">\n",
       "  <thead>\n",
       "    <tr style=\"text-align: right;\">\n",
       "      <th></th>\n",
       "      <th>eventId</th>\n",
       "      <th>xpos</th>\n",
       "      <th>ypos</th>\n",
       "    </tr>\n",
       "  </thead>\n",
       "  <tbody>\n",
       "    <tr>\n",
       "      <td>6</td>\n",
       "      <td>11112018-2240-1_11112018-2240-1_1299</td>\n",
       "      <td>[25.0]</td>\n",
       "      <td>[23.0]</td>\n",
       "    </tr>\n",
       "    <tr>\n",
       "      <td>20</td>\n",
       "      <td>11112018-2240-1_11112018-2240-1_1801</td>\n",
       "      <td>[26.0]</td>\n",
       "      <td>[27.0]</td>\n",
       "    </tr>\n",
       "    <tr>\n",
       "      <td>28</td>\n",
       "      <td>11112018-2240-1_11112018-2240-1_1859</td>\n",
       "      <td>[26.0]</td>\n",
       "      <td>[27.0]</td>\n",
       "    </tr>\n",
       "    <tr>\n",
       "      <td>50</td>\n",
       "      <td>11112018-2240-1_11112018-2240-1_2530</td>\n",
       "      <td>[26.0]</td>\n",
       "      <td>[23.0]</td>\n",
       "    </tr>\n",
       "    <tr>\n",
       "      <td>57</td>\n",
       "      <td>11112018-2240-1_11112018-2240-1_2555</td>\n",
       "      <td>[25.0, 26.0]</td>\n",
       "      <td>[27.0, 27.0]</td>\n",
       "    </tr>\n",
       "    <tr>\n",
       "      <td>64</td>\n",
       "      <td>11112018-2240-1_11112018-2240-1_2793</td>\n",
       "      <td>[26.0]</td>\n",
       "      <td>[24.0]</td>\n",
       "    </tr>\n",
       "    <tr>\n",
       "      <td>70</td>\n",
       "      <td>11112018-2240-1_11112018-2240-1_2869</td>\n",
       "      <td>[30.0]</td>\n",
       "      <td>[27.0]</td>\n",
       "    </tr>\n",
       "    <tr>\n",
       "      <td>78</td>\n",
       "      <td>11112018-2240-1_11112018-2240-1_2920</td>\n",
       "      <td>[25.0]</td>\n",
       "      <td>[25.0]</td>\n",
       "    </tr>\n",
       "    <tr>\n",
       "      <td>84</td>\n",
       "      <td>11112018-2240-1_11112018-2240-1_3390</td>\n",
       "      <td>[27.0]</td>\n",
       "      <td>[26.0]</td>\n",
       "    </tr>\n",
       "    <tr>\n",
       "      <td>92</td>\n",
       "      <td>11112018-2240-1_11112018-2240-1_3466</td>\n",
       "      <td>[28.0]</td>\n",
       "      <td>[21.0]</td>\n",
       "    </tr>\n",
       "    <tr>\n",
       "      <td>106</td>\n",
       "      <td>11112018-2240-1_11112018-2240-1_3991</td>\n",
       "      <td>[25.0]</td>\n",
       "      <td>[27.0]</td>\n",
       "    </tr>\n",
       "    <tr>\n",
       "      <td>113</td>\n",
       "      <td>11112018-2240-1_11112018-2240-1_588</td>\n",
       "      <td>[24.0]</td>\n",
       "      <td>[25.0]</td>\n",
       "    </tr>\n",
       "    <tr>\n",
       "      <td>120</td>\n",
       "      <td>11112018-2240-1_11112018-2240-1_817</td>\n",
       "      <td>[26.0]</td>\n",
       "      <td>[28.0]</td>\n",
       "    </tr>\n",
       "  </tbody>\n",
       "</table>\n",
       "</div>"
      ],
      "text/plain": [
       "                                  eventId          xpos          ypos\n",
       "6    11112018-2240-1_11112018-2240-1_1299        [25.0]        [23.0]\n",
       "20   11112018-2240-1_11112018-2240-1_1801        [26.0]        [27.0]\n",
       "28   11112018-2240-1_11112018-2240-1_1859        [26.0]        [27.0]\n",
       "50   11112018-2240-1_11112018-2240-1_2530        [26.0]        [23.0]\n",
       "57   11112018-2240-1_11112018-2240-1_2555  [25.0, 26.0]  [27.0, 27.0]\n",
       "64   11112018-2240-1_11112018-2240-1_2793        [26.0]        [24.0]\n",
       "70   11112018-2240-1_11112018-2240-1_2869        [30.0]        [27.0]\n",
       "78   11112018-2240-1_11112018-2240-1_2920        [25.0]        [25.0]\n",
       "84   11112018-2240-1_11112018-2240-1_3390        [27.0]        [26.0]\n",
       "92   11112018-2240-1_11112018-2240-1_3466        [28.0]        [21.0]\n",
       "106  11112018-2240-1_11112018-2240-1_3991        [25.0]        [27.0]\n",
       "113   11112018-2240-1_11112018-2240-1_588        [24.0]        [25.0]\n",
       "120   11112018-2240-1_11112018-2240-1_817        [26.0]        [28.0]"
      ]
     },
     "execution_count": 150,
     "metadata": {},
     "output_type": "execute_result"
    }
   ],
   "source": [
    "df[df.chbid == 7][['eventId','xpos', 'ypos']]"
   ]
  },
  {
   "cell_type": "code",
   "execution_count": 219,
   "metadata": {
    "hidden": true
   },
   "outputs": [],
   "source": [
    "x = df.xpos[(df.chbid == 7) & (df.eventId == '11112018-2240-1_11112018-2240-1_2555')]\n",
    "y = df.ypos[(df.chbid == 7) & (df.eventId == '11112018-2240-1_11112018-2240-1_2555')]\n",
    "\n",
    "str2strlist = lambda a: a.replace(']','').replace('[','').split(\",\") \n",
    "strlist2arrfloats = lambda lst: np.array([float(i) for i in lst])\n",
    "\n",
    "x = x.agg(str2strlist).agg(strlist2arrfloats).iloc[0]\n",
    "y = y.agg(str2strlist).agg(strlist2arrfloats).iloc[0]\n"
   ]
  },
  {
   "cell_type": "code",
   "execution_count": 227,
   "metadata": {
    "hidden": true
   },
   "outputs": [
    {
     "data": {
      "text/plain": [
       "array([25., 26.])"
      ]
     },
     "execution_count": 227,
     "metadata": {},
     "output_type": "execute_result"
    }
   ],
   "source": [
    "x"
   ]
  },
  {
   "cell_type": "code",
   "execution_count": 228,
   "metadata": {
    "hidden": true
   },
   "outputs": [],
   "source": [
    "cl = cluster(x,y)"
   ]
  },
  {
   "cell_type": "code",
   "execution_count": 229,
   "metadata": {
    "hidden": true
   },
   "outputs": [
    {
     "data": {
      "text/plain": [
       "array([[25., 27.],\n",
       "       [26., 27.]])"
      ]
     },
     "execution_count": 229,
     "metadata": {},
     "output_type": "execute_result"
    }
   ],
   "source": [
    "cl._points"
   ]
  },
  {
   "cell_type": "code",
   "execution_count": 223,
   "metadata": {
    "hidden": true
   },
   "outputs": [],
   "source": [
    "\n",
    "cl.append(p)\n"
   ]
  },
  {
   "cell_type": "code",
   "execution_count": 230,
   "metadata": {
    "hidden": true
   },
   "outputs": [],
   "source": [
    "p = np.array([24,27])"
   ]
  },
  {
   "cell_type": "code",
   "execution_count": 231,
   "metadata": {
    "hidden": true
   },
   "outputs": [
    {
     "data": {
      "text/plain": [
       "(array([0, 1]), array([1, 0]))"
      ]
     },
     "execution_count": 231,
     "metadata": {},
     "output_type": "execute_result"
    }
   ],
   "source": [
    "cl._connections"
   ]
  },
  {
   "cell_type": "code",
   "execution_count": 236,
   "metadata": {
    "hidden": true
   },
   "outputs": [
    {
     "data": {
      "text/plain": [
       "0"
      ]
     },
     "execution_count": 236,
     "metadata": {},
     "output_type": "execute_result"
    }
   ],
   "source": [
    "searching = np.append(cl._points, np.array([p]), axis=0)\n",
    "np.where(cdist(np.array([p]), cl._points) < 2)[1][0]"
   ]
  },
  {
   "cell_type": "code",
   "execution_count": 237,
   "metadata": {
    "hidden": true
   },
   "outputs": [
    {
     "data": {
      "text/plain": [
       "(array([0, 1]), array([1, 0]))"
      ]
     },
     "execution_count": 237,
     "metadata": {},
     "output_type": "execute_result"
    }
   ],
   "source": [
    "for "
   ]
  },
  {
   "cell_type": "code",
   "execution_count": 265,
   "metadata": {
    "hidden": true
   },
   "outputs": [],
   "source": [
    "def mut(daf):\n",
    "    daf[\"new\"] = daf.hardid.agg(lambda x: len(x))\n",
    "    return None"
   ]
  },
  {
   "cell_type": "code",
   "execution_count": 266,
   "metadata": {
    "hidden": true,
    "scrolled": true
   },
   "outputs": [
    {
     "data": {
      "text/html": [
       "<div>\n",
       "<style scoped>\n",
       "    .dataframe tbody tr th:only-of-type {\n",
       "        vertical-align: middle;\n",
       "    }\n",
       "\n",
       "    .dataframe tbody tr th {\n",
       "        vertical-align: top;\n",
       "    }\n",
       "\n",
       "    .dataframe thead th {\n",
       "        text-align: right;\n",
       "    }\n",
       "</style>\n",
       "<table border=\"1\" class=\"dataframe\">\n",
       "  <thead>\n",
       "    <tr style=\"text-align: right;\">\n",
       "      <th></th>\n",
       "      <th>eventId</th>\n",
       "      <th>chbid</th>\n",
       "      <th>xpos</th>\n",
       "      <th>ypos</th>\n",
       "      <th>dt</th>\n",
       "      <th>digit</th>\n",
       "      <th>chipid</th>\n",
       "      <th>hardid</th>\n",
       "      <th>nhits</th>\n",
       "      <th>new</th>\n",
       "    </tr>\n",
       "  </thead>\n",
       "  <tbody>\n",
       "    <tr>\n",
       "      <td>0</td>\n",
       "      <td>11112018-2240-1_11112018-2240-1_1299</td>\n",
       "      <td>1</td>\n",
       "      <td>[26.0, 25.0]</td>\n",
       "      <td>[24.0, 24.0]</td>\n",
       "      <td>[15.0, 16.0]</td>\n",
       "      <td>[3, 3]</td>\n",
       "      <td>[4, 2]</td>\n",
       "      <td>[7, 0]</td>\n",
       "      <td>2</td>\n",
       "      <td>6</td>\n",
       "    </tr>\n",
       "    <tr>\n",
       "      <td>1</td>\n",
       "      <td>11112018-2240-1_11112018-2240-1_1299</td>\n",
       "      <td>2</td>\n",
       "      <td>[25.0]</td>\n",
       "      <td>[24.0]</td>\n",
       "      <td>[15.0]</td>\n",
       "      <td>[3]</td>\n",
       "      <td>[2]</td>\n",
       "      <td>[0]</td>\n",
       "      <td>1</td>\n",
       "      <td>3</td>\n",
       "    </tr>\n",
       "    <tr>\n",
       "      <td>2</td>\n",
       "      <td>11112018-2240-1_11112018-2240-1_1299</td>\n",
       "      <td>3</td>\n",
       "      <td>[25.0]</td>\n",
       "      <td>[24.0]</td>\n",
       "      <td>[16.0]</td>\n",
       "      <td>[2]</td>\n",
       "      <td>[2]</td>\n",
       "      <td>[0]</td>\n",
       "      <td>1</td>\n",
       "      <td>3</td>\n",
       "    </tr>\n",
       "    <tr>\n",
       "      <td>3</td>\n",
       "      <td>11112018-2240-1_11112018-2240-1_1299</td>\n",
       "      <td>4</td>\n",
       "      <td>[25.0]</td>\n",
       "      <td>[23.0]</td>\n",
       "      <td>[16.0]</td>\n",
       "      <td>[2]</td>\n",
       "      <td>[17]</td>\n",
       "      <td>[63]</td>\n",
       "      <td>1</td>\n",
       "      <td>4</td>\n",
       "    </tr>\n",
       "    <tr>\n",
       "      <td>4</td>\n",
       "      <td>11112018-2240-1_11112018-2240-1_1299</td>\n",
       "      <td>5</td>\n",
       "      <td>[25.0]</td>\n",
       "      <td>[23.0]</td>\n",
       "      <td>[16.0]</td>\n",
       "      <td>[2]</td>\n",
       "      <td>[17]</td>\n",
       "      <td>[63]</td>\n",
       "      <td>1</td>\n",
       "      <td>4</td>\n",
       "    </tr>\n",
       "    <tr>\n",
       "      <td>...</td>\n",
       "      <td>...</td>\n",
       "      <td>...</td>\n",
       "      <td>...</td>\n",
       "      <td>...</td>\n",
       "      <td>...</td>\n",
       "      <td>...</td>\n",
       "      <td>...</td>\n",
       "      <td>...</td>\n",
       "      <td>...</td>\n",
       "      <td>...</td>\n",
       "    </tr>\n",
       "    <tr>\n",
       "      <td>116</td>\n",
       "      <td>11112018-2240-1_11112018-2240-1_817</td>\n",
       "      <td>3</td>\n",
       "      <td>[26.0]</td>\n",
       "      <td>[28.0]</td>\n",
       "      <td>[14.0]</td>\n",
       "      <td>[2]</td>\n",
       "      <td>[3]</td>\n",
       "      <td>[39]</td>\n",
       "      <td>1</td>\n",
       "      <td>4</td>\n",
       "    </tr>\n",
       "    <tr>\n",
       "      <td>117</td>\n",
       "      <td>11112018-2240-1_11112018-2240-1_817</td>\n",
       "      <td>4</td>\n",
       "      <td>[26.0]</td>\n",
       "      <td>[28.0]</td>\n",
       "      <td>[13.0]</td>\n",
       "      <td>[1]</td>\n",
       "      <td>[11]</td>\n",
       "      <td>[52]</td>\n",
       "      <td>1</td>\n",
       "      <td>4</td>\n",
       "    </tr>\n",
       "    <tr>\n",
       "      <td>118</td>\n",
       "      <td>11112018-2240-1_11112018-2240-1_817</td>\n",
       "      <td>5</td>\n",
       "      <td>[26.0]</td>\n",
       "      <td>[28.0]</td>\n",
       "      <td>[14.0]</td>\n",
       "      <td>[2]</td>\n",
       "      <td>[11]</td>\n",
       "      <td>[52]</td>\n",
       "      <td>1</td>\n",
       "      <td>4</td>\n",
       "    </tr>\n",
       "    <tr>\n",
       "      <td>119</td>\n",
       "      <td>11112018-2240-1_11112018-2240-1_817</td>\n",
       "      <td>6</td>\n",
       "      <td>[26.0]</td>\n",
       "      <td>[28.0]</td>\n",
       "      <td>[15.0]</td>\n",
       "      <td>[3]</td>\n",
       "      <td>[11]</td>\n",
       "      <td>[52]</td>\n",
       "      <td>1</td>\n",
       "      <td>4</td>\n",
       "    </tr>\n",
       "    <tr>\n",
       "      <td>120</td>\n",
       "      <td>11112018-2240-1_11112018-2240-1_817</td>\n",
       "      <td>7</td>\n",
       "      <td>[26.0]</td>\n",
       "      <td>[28.0]</td>\n",
       "      <td>[14.0]</td>\n",
       "      <td>[2]</td>\n",
       "      <td>[11]</td>\n",
       "      <td>[52]</td>\n",
       "      <td>1</td>\n",
       "      <td>4</td>\n",
       "    </tr>\n",
       "  </tbody>\n",
       "</table>\n",
       "<p>121 rows × 10 columns</p>\n",
       "</div>"
      ],
      "text/plain": [
       "                                  eventId  chbid          xpos          ypos  \\\n",
       "0    11112018-2240-1_11112018-2240-1_1299      1  [26.0, 25.0]  [24.0, 24.0]   \n",
       "1    11112018-2240-1_11112018-2240-1_1299      2        [25.0]        [24.0]   \n",
       "2    11112018-2240-1_11112018-2240-1_1299      3        [25.0]        [24.0]   \n",
       "3    11112018-2240-1_11112018-2240-1_1299      4        [25.0]        [23.0]   \n",
       "4    11112018-2240-1_11112018-2240-1_1299      5        [25.0]        [23.0]   \n",
       "..                                    ...    ...           ...           ...   \n",
       "116   11112018-2240-1_11112018-2240-1_817      3        [26.0]        [28.0]   \n",
       "117   11112018-2240-1_11112018-2240-1_817      4        [26.0]        [28.0]   \n",
       "118   11112018-2240-1_11112018-2240-1_817      5        [26.0]        [28.0]   \n",
       "119   11112018-2240-1_11112018-2240-1_817      6        [26.0]        [28.0]   \n",
       "120   11112018-2240-1_11112018-2240-1_817      7        [26.0]        [28.0]   \n",
       "\n",
       "               dt   digit  chipid  hardid  nhits  new  \n",
       "0    [15.0, 16.0]  [3, 3]  [4, 2]  [7, 0]      2    6  \n",
       "1          [15.0]     [3]     [2]     [0]      1    3  \n",
       "2          [16.0]     [2]     [2]     [0]      1    3  \n",
       "3          [16.0]     [2]    [17]    [63]      1    4  \n",
       "4          [16.0]     [2]    [17]    [63]      1    4  \n",
       "..            ...     ...     ...     ...    ...  ...  \n",
       "116        [14.0]     [2]     [3]    [39]      1    4  \n",
       "117        [13.0]     [1]    [11]    [52]      1    4  \n",
       "118        [14.0]     [2]    [11]    [52]      1    4  \n",
       "119        [15.0]     [3]    [11]    [52]      1    4  \n",
       "120        [14.0]     [2]    [11]    [52]      1    4  \n",
       "\n",
       "[121 rows x 10 columns]"
      ]
     },
     "execution_count": 266,
     "metadata": {},
     "output_type": "execute_result"
    }
   ],
   "source": [
    "mut(df)\n",
    "df"
   ]
  },
  {
   "cell_type": "code",
   "execution_count": 302,
   "metadata": {
    "hidden": true
   },
   "outputs": [],
   "source": [
    "dataId = 'eventId'\n",
    "df_mip = df\n",
    "# preparing for fit\n",
    "tofit = df_mip.groupby(dataId).agg(lambda x: x.tolist())[['chbid', 'xpos', 'ypos', 'nhits']]\n",
    "\n",
    "tofit_xyz = tofit[['xpos', 'ypos']]\n",
    "\n",
    "# # Fitting track\n",
    "# fit = pd.DataFrame({'zx': tofit_xyz[['chbid', 'xpos']].apply(tuple, axis=1),\n",
    "#                 'zy': tofit_xyz[['chbid', 'ypos']].apply(tuple, axis=1)})\n",
    "# tofit_xyz[['zx', 'zy']] = fit.applymap(lambda p: np.polyfit(p[0], p[1], 1))"
   ]
  },
  {
   "cell_type": "code",
   "execution_count": 326,
   "metadata": {
    "hidden": true
   },
   "outputs": [
    {
     "data": {
      "text/plain": [
       "xpos    [[26.0, 25.0], [25.0], [25.0], [25.0], [25.0],...\n",
       "ypos    [[24.0, 24.0], [24.0], [24.0], [23.0], [23.0],...\n",
       "Name: 11112018-2240-1_11112018-2240-1_1299, dtype: object"
      ]
     },
     "execution_count": 326,
     "metadata": {},
     "output_type": "execute_result"
    }
   ],
   "source": [
    "tofit_xyz.loc['11112018-2240-1_11112018-2240-1_1299']"
   ]
  },
  {
   "cell_type": "code",
   "execution_count": 319,
   "metadata": {
    "hidden": true
   },
   "outputs": [],
   "source": [
    "df['new2'].loc[df.eventId == '11112018-2240-1_11112018-2240-1_1299']='yo'"
   ]
  },
  {
   "cell_type": "code",
   "execution_count": 324,
   "metadata": {
    "hidden": true
   },
   "outputs": [],
   "source": [
    "df['new2'] = np.empty(len(df))"
   ]
  },
  {
   "cell_type": "code",
   "execution_count": 325,
   "metadata": {
    "hidden": true
   },
   "outputs": [
    {
     "data": {
      "text/html": [
       "<div>\n",
       "<style scoped>\n",
       "    .dataframe tbody tr th:only-of-type {\n",
       "        vertical-align: middle;\n",
       "    }\n",
       "\n",
       "    .dataframe tbody tr th {\n",
       "        vertical-align: top;\n",
       "    }\n",
       "\n",
       "    .dataframe thead th {\n",
       "        text-align: right;\n",
       "    }\n",
       "</style>\n",
       "<table border=\"1\" class=\"dataframe\">\n",
       "  <thead>\n",
       "    <tr style=\"text-align: right;\">\n",
       "      <th></th>\n",
       "      <th>eventId</th>\n",
       "      <th>chbid</th>\n",
       "      <th>xpos</th>\n",
       "      <th>ypos</th>\n",
       "      <th>dt</th>\n",
       "      <th>digit</th>\n",
       "      <th>chipid</th>\n",
       "      <th>hardid</th>\n",
       "      <th>nhits</th>\n",
       "      <th>new</th>\n",
       "      <th>new2</th>\n",
       "    </tr>\n",
       "  </thead>\n",
       "  <tbody>\n",
       "    <tr>\n",
       "      <td>0</td>\n",
       "      <td>11112018-2240-1_11112018-2240-1_1299</td>\n",
       "      <td>1</td>\n",
       "      <td>[26.0, 25.0]</td>\n",
       "      <td>[24.0, 24.0]</td>\n",
       "      <td>[15.0, 16.0]</td>\n",
       "      <td>[3, 3]</td>\n",
       "      <td>[4, 2]</td>\n",
       "      <td>[7, 0]</td>\n",
       "      <td>2</td>\n",
       "      <td>yo</td>\n",
       "      <td>0.0</td>\n",
       "    </tr>\n",
       "    <tr>\n",
       "      <td>1</td>\n",
       "      <td>11112018-2240-1_11112018-2240-1_1299</td>\n",
       "      <td>2</td>\n",
       "      <td>[25.0]</td>\n",
       "      <td>[24.0]</td>\n",
       "      <td>[15.0]</td>\n",
       "      <td>[3]</td>\n",
       "      <td>[2]</td>\n",
       "      <td>[0]</td>\n",
       "      <td>1</td>\n",
       "      <td>yo</td>\n",
       "      <td>0.0</td>\n",
       "    </tr>\n",
       "    <tr>\n",
       "      <td>2</td>\n",
       "      <td>11112018-2240-1_11112018-2240-1_1299</td>\n",
       "      <td>3</td>\n",
       "      <td>[25.0]</td>\n",
       "      <td>[24.0]</td>\n",
       "      <td>[16.0]</td>\n",
       "      <td>[2]</td>\n",
       "      <td>[2]</td>\n",
       "      <td>[0]</td>\n",
       "      <td>1</td>\n",
       "      <td>yo</td>\n",
       "      <td>0.0</td>\n",
       "    </tr>\n",
       "    <tr>\n",
       "      <td>3</td>\n",
       "      <td>11112018-2240-1_11112018-2240-1_1299</td>\n",
       "      <td>4</td>\n",
       "      <td>[25.0]</td>\n",
       "      <td>[23.0]</td>\n",
       "      <td>[16.0]</td>\n",
       "      <td>[2]</td>\n",
       "      <td>[17]</td>\n",
       "      <td>[63]</td>\n",
       "      <td>1</td>\n",
       "      <td>yo</td>\n",
       "      <td>0.0</td>\n",
       "    </tr>\n",
       "    <tr>\n",
       "      <td>4</td>\n",
       "      <td>11112018-2240-1_11112018-2240-1_1299</td>\n",
       "      <td>5</td>\n",
       "      <td>[25.0]</td>\n",
       "      <td>[23.0]</td>\n",
       "      <td>[16.0]</td>\n",
       "      <td>[2]</td>\n",
       "      <td>[17]</td>\n",
       "      <td>[63]</td>\n",
       "      <td>1</td>\n",
       "      <td>yo</td>\n",
       "      <td>0.0</td>\n",
       "    </tr>\n",
       "    <tr>\n",
       "      <td>...</td>\n",
       "      <td>...</td>\n",
       "      <td>...</td>\n",
       "      <td>...</td>\n",
       "      <td>...</td>\n",
       "      <td>...</td>\n",
       "      <td>...</td>\n",
       "      <td>...</td>\n",
       "      <td>...</td>\n",
       "      <td>...</td>\n",
       "      <td>...</td>\n",
       "      <td>...</td>\n",
       "    </tr>\n",
       "    <tr>\n",
       "      <td>116</td>\n",
       "      <td>11112018-2240-1_11112018-2240-1_817</td>\n",
       "      <td>3</td>\n",
       "      <td>[26.0]</td>\n",
       "      <td>[28.0]</td>\n",
       "      <td>[14.0]</td>\n",
       "      <td>[2]</td>\n",
       "      <td>[3]</td>\n",
       "      <td>[39]</td>\n",
       "      <td>1</td>\n",
       "      <td>4</td>\n",
       "      <td>0.0</td>\n",
       "    </tr>\n",
       "    <tr>\n",
       "      <td>117</td>\n",
       "      <td>11112018-2240-1_11112018-2240-1_817</td>\n",
       "      <td>4</td>\n",
       "      <td>[26.0]</td>\n",
       "      <td>[28.0]</td>\n",
       "      <td>[13.0]</td>\n",
       "      <td>[1]</td>\n",
       "      <td>[11]</td>\n",
       "      <td>[52]</td>\n",
       "      <td>1</td>\n",
       "      <td>4</td>\n",
       "      <td>0.0</td>\n",
       "    </tr>\n",
       "    <tr>\n",
       "      <td>118</td>\n",
       "      <td>11112018-2240-1_11112018-2240-1_817</td>\n",
       "      <td>5</td>\n",
       "      <td>[26.0]</td>\n",
       "      <td>[28.0]</td>\n",
       "      <td>[14.0]</td>\n",
       "      <td>[2]</td>\n",
       "      <td>[11]</td>\n",
       "      <td>[52]</td>\n",
       "      <td>1</td>\n",
       "      <td>4</td>\n",
       "      <td>0.0</td>\n",
       "    </tr>\n",
       "    <tr>\n",
       "      <td>119</td>\n",
       "      <td>11112018-2240-1_11112018-2240-1_817</td>\n",
       "      <td>6</td>\n",
       "      <td>[26.0]</td>\n",
       "      <td>[28.0]</td>\n",
       "      <td>[15.0]</td>\n",
       "      <td>[3]</td>\n",
       "      <td>[11]</td>\n",
       "      <td>[52]</td>\n",
       "      <td>1</td>\n",
       "      <td>4</td>\n",
       "      <td>0.0</td>\n",
       "    </tr>\n",
       "    <tr>\n",
       "      <td>120</td>\n",
       "      <td>11112018-2240-1_11112018-2240-1_817</td>\n",
       "      <td>7</td>\n",
       "      <td>[26.0]</td>\n",
       "      <td>[28.0]</td>\n",
       "      <td>[14.0]</td>\n",
       "      <td>[2]</td>\n",
       "      <td>[11]</td>\n",
       "      <td>[52]</td>\n",
       "      <td>1</td>\n",
       "      <td>4</td>\n",
       "      <td>0.0</td>\n",
       "    </tr>\n",
       "  </tbody>\n",
       "</table>\n",
       "<p>121 rows × 11 columns</p>\n",
       "</div>"
      ],
      "text/plain": [
       "                                  eventId  chbid          xpos          ypos  \\\n",
       "0    11112018-2240-1_11112018-2240-1_1299      1  [26.0, 25.0]  [24.0, 24.0]   \n",
       "1    11112018-2240-1_11112018-2240-1_1299      2        [25.0]        [24.0]   \n",
       "2    11112018-2240-1_11112018-2240-1_1299      3        [25.0]        [24.0]   \n",
       "3    11112018-2240-1_11112018-2240-1_1299      4        [25.0]        [23.0]   \n",
       "4    11112018-2240-1_11112018-2240-1_1299      5        [25.0]        [23.0]   \n",
       "..                                    ...    ...           ...           ...   \n",
       "116   11112018-2240-1_11112018-2240-1_817      3        [26.0]        [28.0]   \n",
       "117   11112018-2240-1_11112018-2240-1_817      4        [26.0]        [28.0]   \n",
       "118   11112018-2240-1_11112018-2240-1_817      5        [26.0]        [28.0]   \n",
       "119   11112018-2240-1_11112018-2240-1_817      6        [26.0]        [28.0]   \n",
       "120   11112018-2240-1_11112018-2240-1_817      7        [26.0]        [28.0]   \n",
       "\n",
       "               dt   digit  chipid  hardid  nhits new  new2  \n",
       "0    [15.0, 16.0]  [3, 3]  [4, 2]  [7, 0]      2  yo   0.0  \n",
       "1          [15.0]     [3]     [2]     [0]      1  yo   0.0  \n",
       "2          [16.0]     [2]     [2]     [0]      1  yo   0.0  \n",
       "3          [16.0]     [2]    [17]    [63]      1  yo   0.0  \n",
       "4          [16.0]     [2]    [17]    [63]      1  yo   0.0  \n",
       "..            ...     ...     ...     ...    ...  ..   ...  \n",
       "116        [14.0]     [2]     [3]    [39]      1   4   0.0  \n",
       "117        [13.0]     [1]    [11]    [52]      1   4   0.0  \n",
       "118        [14.0]     [2]    [11]    [52]      1   4   0.0  \n",
       "119        [15.0]     [3]    [11]    [52]      1   4   0.0  \n",
       "120        [14.0]     [2]    [11]    [52]      1   4   0.0  \n",
       "\n",
       "[121 rows x 11 columns]"
      ]
     },
     "execution_count": 325,
     "metadata": {},
     "output_type": "execute_result"
    }
   ],
   "source": [
    "df"
   ]
  },
  {
   "cell_type": "code",
   "execution_count": 8,
   "metadata": {
    "hidden": true
   },
   "outputs": [
    {
     "name": "stdout",
     "output_type": "stream",
     "text": [
      "[26.0, 25.0]\n",
      "[25.0]\n",
      "[25.0]\n",
      "[25.0]\n",
      "[25.0]\n",
      "[25.0]\n",
      "[25.0]\n",
      "[24.0, 25.0]\n",
      "[25.0]\n",
      "[26.0, 25.0]\n",
      "[25.0]\n",
      "[25.0]\n",
      "[25.0]\n",
      "[25.0]\n",
      "[26.0, 25.0]\n",
      "[26.0]\n",
      "[26.0]\n",
      "[26.0]\n",
      "[26.0]\n",
      "[26.0]\n",
      "[26.0]\n",
      "[26.0]\n",
      "[27.0, 26.0]\n",
      "[27.0]\n",
      "[27.0]\n",
      "[26.0]\n",
      "[26.0]\n",
      "[26.0]\n",
      "[26.0]\n",
      "[26.0]\n",
      "[26.0, 26.0]\n",
      "[26.0]\n",
      "[26.0]\n",
      "[26.0]\n",
      "[26.0]\n",
      "[26.0]\n",
      "[26.0]\n",
      "[26.0, 26.0]\n",
      "[26.0]\n",
      "[26.0]\n",
      "[26.0, 26.0]\n",
      "[26.0]\n",
      "[26.0]\n",
      "[26.0]\n",
      "[27.0, 26.0]\n",
      "[26.0]\n",
      "[26.0]\n",
      "[26.0]\n",
      "[26.0]\n",
      "[26.0]\n",
      "[26.0]\n",
      "[25.0, 26.0]\n",
      "[26.0]\n",
      "[26.0]\n",
      "[25.0]\n",
      "[26.0]\n",
      "[26.0]\n",
      "[25.0, 26.0]\n",
      "[27.0, 26.0]\n",
      "[26.0]\n",
      "[26.0]\n",
      "[26.0]\n",
      "[26.0]\n",
      "[26.0]\n",
      "[26.0]\n",
      "[31.0, 30.0]\n",
      "[31.0]\n",
      "[30.0]\n",
      "[30.0]\n",
      "[30.0]\n",
      "[30.0]\n",
      "[31.0, 30.0]\n",
      "[25.0, 25.0]\n",
      "[25.0]\n",
      "[25.0]\n",
      "[25.0]\n",
      "[25.0]\n",
      "[25.0]\n",
      "[25.0]\n",
      "[27.0, 27.0]\n",
      "[27.0]\n",
      "[27.0]\n",
      "[27.0]\n",
      "[27.0]\n",
      "[27.0]\n",
      "[27.0]\n",
      "[28.0, 28.0]\n",
      "[28.0]\n",
      "[28.0]\n",
      "[28.0]\n",
      "[28.0]\n",
      "[28.0]\n",
      "[28.0]\n",
      "[29.0, 30.0]\n",
      "[30.0]\n",
      "[30.0]\n",
      "[30.0]\n",
      "[30.0]\n",
      "[30.0]\n",
      "[30.0]\n",
      "[26.0, 25.0]\n",
      "[25.0]\n",
      "[25.0]\n",
      "[25.0]\n",
      "[25.0]\n",
      "[25.0]\n",
      "[25.0]\n",
      "[24.0, 23.0]\n",
      "[24.0]\n",
      "[24.0]\n",
      "[24.0]\n",
      "[24.0]\n",
      "[24.0]\n",
      "[24.0]\n",
      "[26.0, 26.0]\n",
      "[26.0]\n",
      "[26.0]\n",
      "[26.0]\n",
      "[26.0]\n",
      "[26.0]\n",
      "[26.0]\n"
     ]
    }
   ],
   "source": [
    "\n",
    "for i in range(df.shape[0]):\n",
    "    p = [df.zx.iloc[i][0]*df.chbid.iloc[i] + df.zx.iloc[i][1],\n",
    "         df.zy.iloc[i][0]*df.chbid.iloc[i] + df.zy.iloc[i][1]]\n",
    "    print(\"x: {}\".format(df.xpos.iloc[i]))\n",
    "    print(\"y: {}\".format(df.ypos.iloc[i]))\n",
    "    cl = clustet(df.xpos.iloc[i], df.xpos.iloc[i]) \n",
    "    cl.seeding(p)\n",
    "    df['cl_members'] = cl.cluster(p)"
   ]
  },
  {
   "cell_type": "code",
   "execution_count": 11,
   "metadata": {
    "hidden": true
   },
   "outputs": [
    {
     "data": {
      "text/plain": [
       "(121, 9)"
      ]
     },
     "execution_count": 11,
     "metadata": {},
     "output_type": "execute_result"
    }
   ],
   "source": [
    "df.shape"
   ]
  },
  {
   "cell_type": "code",
   "execution_count": 24,
   "metadata": {
    "hidden": true
   },
   "outputs": [
    {
     "data": {
      "text/html": [
       "<div>\n",
       "<style scoped>\n",
       "    .dataframe tbody tr th:only-of-type {\n",
       "        vertical-align: middle;\n",
       "    }\n",
       "\n",
       "    .dataframe tbody tr th {\n",
       "        vertical-align: top;\n",
       "    }\n",
       "\n",
       "    .dataframe thead th {\n",
       "        text-align: right;\n",
       "    }\n",
       "</style>\n",
       "<table border=\"1\" class=\"dataframe\">\n",
       "  <thead>\n",
       "    <tr style=\"text-align: right;\">\n",
       "      <th></th>\n",
       "      <th>eventId</th>\n",
       "      <th>chbid</th>\n",
       "      <th>xpos</th>\n",
       "      <th>ypos</th>\n",
       "      <th>dt</th>\n",
       "      <th>digit</th>\n",
       "      <th>chipid</th>\n",
       "      <th>hardid</th>\n",
       "      <th>nhits</th>\n",
       "    </tr>\n",
       "  </thead>\n",
       "  <tbody>\n",
       "    <tr>\n",
       "      <td>0</td>\n",
       "      <td>11112018-2240-1_11112018-2240-1_1299</td>\n",
       "      <td>1</td>\n",
       "      <td>[26.0, 25.0]</td>\n",
       "      <td>[24.0, 24.0]</td>\n",
       "      <td>[1,100]</td>\n",
       "      <td>[3, 3]</td>\n",
       "      <td>[4, 2]</td>\n",
       "      <td>[7, 0]</td>\n",
       "      <td>2</td>\n",
       "    </tr>\n",
       "    <tr>\n",
       "      <td>1</td>\n",
       "      <td>11112018-2240-1_11112018-2240-1_1299</td>\n",
       "      <td>2</td>\n",
       "      <td>[25.0]</td>\n",
       "      <td>[24.0]</td>\n",
       "      <td>[15.0]</td>\n",
       "      <td>[3]</td>\n",
       "      <td>[2]</td>\n",
       "      <td>[0]</td>\n",
       "      <td>1</td>\n",
       "    </tr>\n",
       "    <tr>\n",
       "      <td>2</td>\n",
       "      <td>11112018-2240-1_11112018-2240-1_1299</td>\n",
       "      <td>3</td>\n",
       "      <td>[25.0]</td>\n",
       "      <td>[24.0]</td>\n",
       "      <td>[16.0]</td>\n",
       "      <td>[2]</td>\n",
       "      <td>[2]</td>\n",
       "      <td>[0]</td>\n",
       "      <td>1</td>\n",
       "    </tr>\n",
       "    <tr>\n",
       "      <td>3</td>\n",
       "      <td>11112018-2240-1_11112018-2240-1_1299</td>\n",
       "      <td>4</td>\n",
       "      <td>[25.0]</td>\n",
       "      <td>[23.0]</td>\n",
       "      <td>[16.0]</td>\n",
       "      <td>[2]</td>\n",
       "      <td>[17]</td>\n",
       "      <td>[63]</td>\n",
       "      <td>1</td>\n",
       "    </tr>\n",
       "    <tr>\n",
       "      <td>4</td>\n",
       "      <td>11112018-2240-1_11112018-2240-1_1299</td>\n",
       "      <td>5</td>\n",
       "      <td>[25.0]</td>\n",
       "      <td>[23.0]</td>\n",
       "      <td>[16.0]</td>\n",
       "      <td>[2]</td>\n",
       "      <td>[17]</td>\n",
       "      <td>[63]</td>\n",
       "      <td>1</td>\n",
       "    </tr>\n",
       "  </tbody>\n",
       "</table>\n",
       "</div>"
      ],
      "text/plain": [
       "                                eventId  chbid          xpos          ypos  \\\n",
       "0  11112018-2240-1_11112018-2240-1_1299      1  [26.0, 25.0]  [24.0, 24.0]   \n",
       "1  11112018-2240-1_11112018-2240-1_1299      2        [25.0]        [24.0]   \n",
       "2  11112018-2240-1_11112018-2240-1_1299      3        [25.0]        [24.0]   \n",
       "3  11112018-2240-1_11112018-2240-1_1299      4        [25.0]        [23.0]   \n",
       "4  11112018-2240-1_11112018-2240-1_1299      5        [25.0]        [23.0]   \n",
       "\n",
       "        dt   digit  chipid  hardid  nhits  \n",
       "0  [1,100]  [3, 3]  [4, 2]  [7, 0]      2  \n",
       "1   [15.0]     [3]     [2]     [0]      1  \n",
       "2   [16.0]     [2]     [2]     [0]      1  \n",
       "3   [16.0]     [2]    [17]    [63]      1  \n",
       "4   [16.0]     [2]    [17]    [63]      1  "
      ]
     },
     "execution_count": 24,
     "metadata": {},
     "output_type": "execute_result"
    }
   ],
   "source": [
    "df.head()"
   ]
  },
  {
   "cell_type": "code",
   "execution_count": 68,
   "metadata": {
    "hidden": true
   },
   "outputs": [
    {
     "ename": "ValueError",
     "evalue": "The truth value of an array with more than one element is ambiguous. Use a.any() or a.all()",
     "output_type": "error",
     "traceback": [
      "\u001b[0;31m---------------------------------------------------------------------------\u001b[0m",
      "\u001b[0;31mValueError\u001b[0m                                Traceback (most recent call last)",
      "\u001b[0;32m<ipython-input-68-73257e30c86a>\u001b[0m in \u001b[0;36m<module>\u001b[0;34m\u001b[0m\n\u001b[1;32m      1\u001b[0m \u001b[0mindices\u001b[0m \u001b[0;34m=\u001b[0m \u001b[0mdf\u001b[0m\u001b[0;34m[\u001b[0m\u001b[0mdf\u001b[0m\u001b[0;34m.\u001b[0m\u001b[0mchbid\u001b[0m \u001b[0;34m==\u001b[0m \u001b[0;36m1\u001b[0m\u001b[0;34m]\u001b[0m\u001b[0;34m.\u001b[0m\u001b[0mindex\u001b[0m\u001b[0;34m.\u001b[0m\u001b[0mtolist\u001b[0m\u001b[0;34m(\u001b[0m\u001b[0;34m)\u001b[0m\u001b[0;34m\u001b[0m\u001b[0;34m\u001b[0m\u001b[0m\n\u001b[0;32m----> 2\u001b[0;31m \u001b[0mdf\u001b[0m\u001b[0;34m[\u001b[0m\u001b[0;34m'tmp'\u001b[0m\u001b[0;34m]\u001b[0m\u001b[0;34m.\u001b[0m\u001b[0mupdate\u001b[0m\u001b[0;34m(\u001b[0m\u001b[0mpd\u001b[0m\u001b[0;34m.\u001b[0m\u001b[0mSeries\u001b[0m\u001b[0;34m(\u001b[0m\u001b[0;34m[\u001b[0m\u001b[0;34m[\u001b[0m\u001b[0;36m1\u001b[0m\u001b[0;34m,\u001b[0m\u001b[0;36m1\u001b[0m\u001b[0;34m]\u001b[0m\u001b[0;34m]\u001b[0m\u001b[0;34m*\u001b[0m\u001b[0mlen\u001b[0m\u001b[0;34m(\u001b[0m\u001b[0mindices\u001b[0m\u001b[0;34m)\u001b[0m\u001b[0;34m,\u001b[0m \u001b[0mindex\u001b[0m\u001b[0;34m=\u001b[0m\u001b[0mindices\u001b[0m\u001b[0;34m)\u001b[0m\u001b[0;34m)\u001b[0m\u001b[0;34m\u001b[0m\u001b[0;34m\u001b[0m\u001b[0m\n\u001b[0m\u001b[1;32m      3\u001b[0m \u001b[0mdf\u001b[0m\u001b[0;34m[\u001b[0m\u001b[0mdf\u001b[0m\u001b[0;34m.\u001b[0m\u001b[0mchbid\u001b[0m \u001b[0;34m==\u001b[0m \u001b[0;36m1\u001b[0m\u001b[0;34m]\u001b[0m\u001b[0;34m.\u001b[0m\u001b[0mhead\u001b[0m\u001b[0;34m(\u001b[0m\u001b[0;34m)\u001b[0m\u001b[0;34m\u001b[0m\u001b[0;34m\u001b[0m\u001b[0m\n",
      "\u001b[0;32m/Library/Frameworks/Python.framework/Versions/3.7/lib/python3.7/site-packages/pandas/core/series.py\u001b[0m in \u001b[0;36mupdate\u001b[0;34m(self, other)\u001b[0m\n\u001b[1;32m   3015\u001b[0m         \u001b[0mmask\u001b[0m \u001b[0;34m=\u001b[0m \u001b[0mnotna\u001b[0m\u001b[0;34m(\u001b[0m\u001b[0mother\u001b[0m\u001b[0;34m)\u001b[0m\u001b[0;34m\u001b[0m\u001b[0;34m\u001b[0m\u001b[0m\n\u001b[1;32m   3016\u001b[0m \u001b[0;34m\u001b[0m\u001b[0m\n\u001b[0;32m-> 3017\u001b[0;31m         \u001b[0mself\u001b[0m\u001b[0;34m.\u001b[0m\u001b[0m_data\u001b[0m \u001b[0;34m=\u001b[0m \u001b[0mself\u001b[0m\u001b[0;34m.\u001b[0m\u001b[0m_data\u001b[0m\u001b[0;34m.\u001b[0m\u001b[0mputmask\u001b[0m\u001b[0;34m(\u001b[0m\u001b[0mmask\u001b[0m\u001b[0;34m=\u001b[0m\u001b[0mmask\u001b[0m\u001b[0;34m,\u001b[0m \u001b[0mnew\u001b[0m\u001b[0;34m=\u001b[0m\u001b[0mother\u001b[0m\u001b[0;34m,\u001b[0m \u001b[0minplace\u001b[0m\u001b[0;34m=\u001b[0m\u001b[0;32mTrue\u001b[0m\u001b[0;34m)\u001b[0m\u001b[0;34m\u001b[0m\u001b[0;34m\u001b[0m\u001b[0m\n\u001b[0m\u001b[1;32m   3018\u001b[0m         \u001b[0mself\u001b[0m\u001b[0;34m.\u001b[0m\u001b[0m_maybe_update_cacher\u001b[0m\u001b[0;34m(\u001b[0m\u001b[0;34m)\u001b[0m\u001b[0;34m\u001b[0m\u001b[0;34m\u001b[0m\u001b[0m\n\u001b[1;32m   3019\u001b[0m \u001b[0;34m\u001b[0m\u001b[0m\n",
      "\u001b[0;32m/Library/Frameworks/Python.framework/Versions/3.7/lib/python3.7/site-packages/pandas/core/internals/managers.py\u001b[0m in \u001b[0;36mputmask\u001b[0;34m(self, **kwargs)\u001b[0m\n\u001b[1;32m    561\u001b[0m \u001b[0;34m\u001b[0m\u001b[0m\n\u001b[1;32m    562\u001b[0m     \u001b[0;32mdef\u001b[0m \u001b[0mputmask\u001b[0m\u001b[0;34m(\u001b[0m\u001b[0mself\u001b[0m\u001b[0;34m,\u001b[0m \u001b[0;34m**\u001b[0m\u001b[0mkwargs\u001b[0m\u001b[0;34m)\u001b[0m\u001b[0;34m:\u001b[0m\u001b[0;34m\u001b[0m\u001b[0;34m\u001b[0m\u001b[0m\n\u001b[0;32m--> 563\u001b[0;31m         \u001b[0;32mreturn\u001b[0m \u001b[0mself\u001b[0m\u001b[0;34m.\u001b[0m\u001b[0mapply\u001b[0m\u001b[0;34m(\u001b[0m\u001b[0;34m\"putmask\"\u001b[0m\u001b[0;34m,\u001b[0m \u001b[0;34m**\u001b[0m\u001b[0mkwargs\u001b[0m\u001b[0;34m)\u001b[0m\u001b[0;34m\u001b[0m\u001b[0;34m\u001b[0m\u001b[0m\n\u001b[0m\u001b[1;32m    564\u001b[0m \u001b[0;34m\u001b[0m\u001b[0m\n\u001b[1;32m    565\u001b[0m     \u001b[0;32mdef\u001b[0m \u001b[0mdiff\u001b[0m\u001b[0;34m(\u001b[0m\u001b[0mself\u001b[0m\u001b[0;34m,\u001b[0m \u001b[0;34m**\u001b[0m\u001b[0mkwargs\u001b[0m\u001b[0;34m)\u001b[0m\u001b[0;34m:\u001b[0m\u001b[0;34m\u001b[0m\u001b[0;34m\u001b[0m\u001b[0m\n",
      "\u001b[0;32m/Library/Frameworks/Python.framework/Versions/3.7/lib/python3.7/site-packages/pandas/core/internals/managers.py\u001b[0m in \u001b[0;36mapply\u001b[0;34m(self, f, axes, filter, do_integrity_check, consolidate, **kwargs)\u001b[0m\n\u001b[1;32m    436\u001b[0m                     \u001b[0mkwargs\u001b[0m\u001b[0;34m[\u001b[0m\u001b[0mk\u001b[0m\u001b[0;34m]\u001b[0m \u001b[0;34m=\u001b[0m \u001b[0mobj\u001b[0m\u001b[0;34m.\u001b[0m\u001b[0mreindex\u001b[0m\u001b[0;34m(\u001b[0m\u001b[0mb_items\u001b[0m\u001b[0;34m,\u001b[0m \u001b[0maxis\u001b[0m\u001b[0;34m=\u001b[0m\u001b[0maxis\u001b[0m\u001b[0;34m,\u001b[0m \u001b[0mcopy\u001b[0m\u001b[0;34m=\u001b[0m\u001b[0malign_copy\u001b[0m\u001b[0;34m)\u001b[0m\u001b[0;34m\u001b[0m\u001b[0;34m\u001b[0m\u001b[0m\n\u001b[1;32m    437\u001b[0m \u001b[0;34m\u001b[0m\u001b[0m\n\u001b[0;32m--> 438\u001b[0;31m             \u001b[0mapplied\u001b[0m \u001b[0;34m=\u001b[0m \u001b[0mgetattr\u001b[0m\u001b[0;34m(\u001b[0m\u001b[0mb\u001b[0m\u001b[0;34m,\u001b[0m \u001b[0mf\u001b[0m\u001b[0;34m)\u001b[0m\u001b[0;34m(\u001b[0m\u001b[0;34m**\u001b[0m\u001b[0mkwargs\u001b[0m\u001b[0;34m)\u001b[0m\u001b[0;34m\u001b[0m\u001b[0;34m\u001b[0m\u001b[0m\n\u001b[0m\u001b[1;32m    439\u001b[0m             \u001b[0mresult_blocks\u001b[0m \u001b[0;34m=\u001b[0m \u001b[0m_extend_blocks\u001b[0m\u001b[0;34m(\u001b[0m\u001b[0mapplied\u001b[0m\u001b[0;34m,\u001b[0m \u001b[0mresult_blocks\u001b[0m\u001b[0;34m)\u001b[0m\u001b[0;34m\u001b[0m\u001b[0;34m\u001b[0m\u001b[0m\n\u001b[1;32m    440\u001b[0m \u001b[0;34m\u001b[0m\u001b[0m\n",
      "\u001b[0;32m/Library/Frameworks/Python.framework/Versions/3.7/lib/python3.7/site-packages/pandas/core/internals/blocks.py\u001b[0m in \u001b[0;36mputmask\u001b[0;34m(self, mask, new, align, inplace, axis, transpose)\u001b[0m\n\u001b[1;32m   1049\u001b[0m                 \u001b[0;32mreturn\u001b[0m \u001b[0mnv\u001b[0m\u001b[0;34m\u001b[0m\u001b[0;34m\u001b[0m\u001b[0m\n\u001b[1;32m   1050\u001b[0m \u001b[0;34m\u001b[0m\u001b[0m\n\u001b[0;32m-> 1051\u001b[0;31m             \u001b[0mnew_blocks\u001b[0m \u001b[0;34m=\u001b[0m \u001b[0mself\u001b[0m\u001b[0;34m.\u001b[0m\u001b[0msplit_and_operate\u001b[0m\u001b[0;34m(\u001b[0m\u001b[0mmask\u001b[0m\u001b[0;34m,\u001b[0m \u001b[0mf\u001b[0m\u001b[0;34m,\u001b[0m \u001b[0minplace\u001b[0m\u001b[0;34m)\u001b[0m\u001b[0;34m\u001b[0m\u001b[0;34m\u001b[0m\u001b[0m\n\u001b[0m\u001b[1;32m   1052\u001b[0m             \u001b[0;32mreturn\u001b[0m \u001b[0mnew_blocks\u001b[0m\u001b[0;34m\u001b[0m\u001b[0;34m\u001b[0m\u001b[0m\n\u001b[1;32m   1053\u001b[0m \u001b[0;34m\u001b[0m\u001b[0m\n",
      "\u001b[0;32m/Library/Frameworks/Python.framework/Versions/3.7/lib/python3.7/site-packages/pandas/core/internals/blocks.py\u001b[0m in \u001b[0;36msplit_and_operate\u001b[0;34m(self, mask, f, inplace)\u001b[0m\n\u001b[1;32m    477\u001b[0m         \u001b[0;32mif\u001b[0m \u001b[0mself\u001b[0m\u001b[0;34m.\u001b[0m\u001b[0mndim\u001b[0m \u001b[0;34m==\u001b[0m \u001b[0;36m1\u001b[0m\u001b[0;34m:\u001b[0m\u001b[0;34m\u001b[0m\u001b[0;34m\u001b[0m\u001b[0m\n\u001b[1;32m    478\u001b[0m             \u001b[0;32mif\u001b[0m \u001b[0mmask\u001b[0m\u001b[0;34m.\u001b[0m\u001b[0many\u001b[0m\u001b[0;34m(\u001b[0m\u001b[0;34m)\u001b[0m\u001b[0;34m:\u001b[0m\u001b[0;34m\u001b[0m\u001b[0;34m\u001b[0m\u001b[0m\n\u001b[0;32m--> 479\u001b[0;31m                 \u001b[0mnv\u001b[0m \u001b[0;34m=\u001b[0m \u001b[0mf\u001b[0m\u001b[0;34m(\u001b[0m\u001b[0mmask\u001b[0m\u001b[0;34m,\u001b[0m \u001b[0mnew_values\u001b[0m\u001b[0;34m,\u001b[0m \u001b[0;32mNone\u001b[0m\u001b[0;34m)\u001b[0m\u001b[0;34m\u001b[0m\u001b[0;34m\u001b[0m\u001b[0m\n\u001b[0m\u001b[1;32m    480\u001b[0m             \u001b[0;32melse\u001b[0m\u001b[0;34m:\u001b[0m\u001b[0;34m\u001b[0m\u001b[0;34m\u001b[0m\u001b[0m\n\u001b[1;32m    481\u001b[0m                 \u001b[0mnv\u001b[0m \u001b[0;34m=\u001b[0m \u001b[0mnew_values\u001b[0m \u001b[0;32mif\u001b[0m \u001b[0minplace\u001b[0m \u001b[0;32melse\u001b[0m \u001b[0mnew_values\u001b[0m\u001b[0;34m.\u001b[0m\u001b[0mcopy\u001b[0m\u001b[0;34m(\u001b[0m\u001b[0;34m)\u001b[0m\u001b[0;34m\u001b[0m\u001b[0;34m\u001b[0m\u001b[0m\n",
      "\u001b[0;32m/Library/Frameworks/Python.framework/Versions/3.7/lib/python3.7/site-packages/pandas/core/internals/blocks.py\u001b[0m in \u001b[0;36mf\u001b[0;34m(m, v, i)\u001b[0m\n\u001b[1;32m   1046\u001b[0m                     \u001b[0mn\u001b[0m \u001b[0;34m=\u001b[0m \u001b[0mn\u001b[0m\u001b[0;34m.\u001b[0m\u001b[0mastype\u001b[0m\u001b[0;34m(\u001b[0m\u001b[0mdtype\u001b[0m\u001b[0;34m)\u001b[0m\u001b[0;34m\u001b[0m\u001b[0;34m\u001b[0m\u001b[0m\n\u001b[1;32m   1047\u001b[0m \u001b[0;34m\u001b[0m\u001b[0m\n\u001b[0;32m-> 1048\u001b[0;31m                 \u001b[0mnv\u001b[0m \u001b[0;34m=\u001b[0m \u001b[0m_putmask_smart\u001b[0m\u001b[0;34m(\u001b[0m\u001b[0mv\u001b[0m\u001b[0;34m,\u001b[0m \u001b[0mm\u001b[0m\u001b[0;34m,\u001b[0m \u001b[0mn\u001b[0m\u001b[0;34m)\u001b[0m\u001b[0;34m\u001b[0m\u001b[0;34m\u001b[0m\u001b[0m\n\u001b[0m\u001b[1;32m   1049\u001b[0m                 \u001b[0;32mreturn\u001b[0m \u001b[0mnv\u001b[0m\u001b[0;34m\u001b[0m\u001b[0;34m\u001b[0m\u001b[0m\n\u001b[1;32m   1050\u001b[0m \u001b[0;34m\u001b[0m\u001b[0m\n",
      "\u001b[0;32m/Library/Frameworks/Python.framework/Versions/3.7/lib/python3.7/site-packages/pandas/core/internals/blocks.py\u001b[0m in \u001b[0;36m_putmask_smart\u001b[0;34m(v, m, n)\u001b[0m\n\u001b[1;32m   3389\u001b[0m         \u001b[0;31m# make sure that we have a nullable type\u001b[0m\u001b[0;34m\u001b[0m\u001b[0;34m\u001b[0m\u001b[0;34m\u001b[0m\u001b[0m\n\u001b[1;32m   3390\u001b[0m         \u001b[0;31m# if we have nulls\u001b[0m\u001b[0;34m\u001b[0m\u001b[0;34m\u001b[0m\u001b[0;34m\u001b[0m\u001b[0m\n\u001b[0;32m-> 3391\u001b[0;31m         \u001b[0;32mif\u001b[0m \u001b[0;32mnot\u001b[0m \u001b[0m_isna_compat\u001b[0m\u001b[0;34m(\u001b[0m\u001b[0mv\u001b[0m\u001b[0;34m,\u001b[0m \u001b[0mnn\u001b[0m\u001b[0;34m[\u001b[0m\u001b[0;36m0\u001b[0m\u001b[0;34m]\u001b[0m\u001b[0;34m)\u001b[0m\u001b[0;34m:\u001b[0m\u001b[0;34m\u001b[0m\u001b[0;34m\u001b[0m\u001b[0m\n\u001b[0m\u001b[1;32m   3392\u001b[0m             \u001b[0;32mpass\u001b[0m\u001b[0;34m\u001b[0m\u001b[0;34m\u001b[0m\u001b[0m\n\u001b[1;32m   3393\u001b[0m         \u001b[0;32melif\u001b[0m \u001b[0;32mnot\u001b[0m \u001b[0;34m(\u001b[0m\u001b[0mis_float_dtype\u001b[0m\u001b[0;34m(\u001b[0m\u001b[0mnn\u001b[0m\u001b[0;34m.\u001b[0m\u001b[0mdtype\u001b[0m\u001b[0;34m)\u001b[0m \u001b[0;32mor\u001b[0m \u001b[0mis_integer_dtype\u001b[0m\u001b[0;34m(\u001b[0m\u001b[0mnn\u001b[0m\u001b[0;34m.\u001b[0m\u001b[0mdtype\u001b[0m\u001b[0;34m)\u001b[0m\u001b[0;34m)\u001b[0m\u001b[0;34m:\u001b[0m\u001b[0;34m\u001b[0m\u001b[0;34m\u001b[0m\u001b[0m\n",
      "\u001b[0;32m/Library/Frameworks/Python.framework/Versions/3.7/lib/python3.7/site-packages/pandas/core/dtypes/missing.py\u001b[0m in \u001b[0;36m_isna_compat\u001b[0;34m(arr, fill_value)\u001b[0m\n\u001b[1;32m    386\u001b[0m     \"\"\"\n\u001b[1;32m    387\u001b[0m     \u001b[0mdtype\u001b[0m \u001b[0;34m=\u001b[0m \u001b[0marr\u001b[0m\u001b[0;34m.\u001b[0m\u001b[0mdtype\u001b[0m\u001b[0;34m\u001b[0m\u001b[0;34m\u001b[0m\u001b[0m\n\u001b[0;32m--> 388\u001b[0;31m     \u001b[0;32mif\u001b[0m \u001b[0misna\u001b[0m\u001b[0;34m(\u001b[0m\u001b[0mfill_value\u001b[0m\u001b[0;34m)\u001b[0m\u001b[0;34m:\u001b[0m\u001b[0;34m\u001b[0m\u001b[0;34m\u001b[0m\u001b[0m\n\u001b[0m\u001b[1;32m    389\u001b[0m         \u001b[0;32mreturn\u001b[0m \u001b[0;32mnot\u001b[0m \u001b[0;34m(\u001b[0m\u001b[0mis_bool_dtype\u001b[0m\u001b[0;34m(\u001b[0m\u001b[0mdtype\u001b[0m\u001b[0;34m)\u001b[0m \u001b[0;32mor\u001b[0m \u001b[0mis_integer_dtype\u001b[0m\u001b[0;34m(\u001b[0m\u001b[0mdtype\u001b[0m\u001b[0;34m)\u001b[0m\u001b[0;34m)\u001b[0m\u001b[0;34m\u001b[0m\u001b[0;34m\u001b[0m\u001b[0m\n\u001b[1;32m    390\u001b[0m     \u001b[0;32mreturn\u001b[0m \u001b[0;32mTrue\u001b[0m\u001b[0;34m\u001b[0m\u001b[0;34m\u001b[0m\u001b[0m\n",
      "\u001b[0;31mValueError\u001b[0m: The truth value of an array with more than one element is ambiguous. Use a.any() or a.all()"
     ]
    }
   ],
   "source": [
    "indices = df[df.chbid == 1].index.tolist()\n",
    "df['tmp'].update(pd.Series([[1,1]]*len(indices), index=indices))\n",
    "df[df.chbid == 1].head()"
   ]
  },
  {
   "cell_type": "code",
   "execution_count": 54,
   "metadata": {
    "hidden": true
   },
   "outputs": [
    {
     "data": {
      "text/plain": [
       "0      [1, 1]\n",
       "7      [1, 1]\n",
       "14     [1, 1]\n",
       "22     [1, 1]\n",
       "30     [1, 1]\n",
       "37     [1, 1]\n",
       "44     [1, 1]\n",
       "51     [1, 1]\n",
       "58     [1, 1]\n",
       "65     [1, 1]\n",
       "72     [1, 1]\n",
       "79     [1, 1]\n",
       "86     [1, 1]\n",
       "93     [1, 1]\n",
       "100    [1, 1]\n",
       "107    [1, 1]\n",
       "114    [1, 1]\n",
       "dtype: object"
      ]
     },
     "execution_count": 54,
     "metadata": {},
     "output_type": "execute_result"
    }
   ],
   "source": [
    "pd.Series([[1,1]]*len(indices), index=indices)"
   ]
  },
  {
   "cell_type": "code",
   "execution_count": 76,
   "metadata": {
    "hidden": true
   },
   "outputs": [],
   "source": [
    "df.loc[df.chbid == 1,['tmp']]=2"
   ]
  },
  {
   "cell_type": "code",
   "execution_count": 77,
   "metadata": {
    "hidden": true
   },
   "outputs": [
    {
     "data": {
      "text/html": [
       "<div>\n",
       "<style scoped>\n",
       "    .dataframe tbody tr th:only-of-type {\n",
       "        vertical-align: middle;\n",
       "    }\n",
       "\n",
       "    .dataframe tbody tr th {\n",
       "        vertical-align: top;\n",
       "    }\n",
       "\n",
       "    .dataframe thead th {\n",
       "        text-align: right;\n",
       "    }\n",
       "</style>\n",
       "<table border=\"1\" class=\"dataframe\">\n",
       "  <thead>\n",
       "    <tr style=\"text-align: right;\">\n",
       "      <th></th>\n",
       "      <th>eventId</th>\n",
       "      <th>chbid</th>\n",
       "      <th>xpos</th>\n",
       "      <th>ypos</th>\n",
       "      <th>dt</th>\n",
       "      <th>digit</th>\n",
       "      <th>chipid</th>\n",
       "      <th>hardid</th>\n",
       "      <th>nhits</th>\n",
       "      <th>tmp</th>\n",
       "    </tr>\n",
       "  </thead>\n",
       "  <tbody>\n",
       "    <tr>\n",
       "      <td>0</td>\n",
       "      <td>11112018-2240-1_11112018-2240-1_1299</td>\n",
       "      <td>1</td>\n",
       "      <td>[26.0, 25.0]</td>\n",
       "      <td>[24.0, 24.0]</td>\n",
       "      <td>[1, 1]</td>\n",
       "      <td>[3, 3]</td>\n",
       "      <td>[4, 2]</td>\n",
       "      <td>[7, 0]</td>\n",
       "      <td>2</td>\n",
       "      <td>2</td>\n",
       "    </tr>\n",
       "    <tr>\n",
       "      <td>1</td>\n",
       "      <td>11112018-2240-1_11112018-2240-1_1299</td>\n",
       "      <td>2</td>\n",
       "      <td>[25.0]</td>\n",
       "      <td>[24.0]</td>\n",
       "      <td>[15.0]</td>\n",
       "      <td>[3]</td>\n",
       "      <td>[2]</td>\n",
       "      <td>[0]</td>\n",
       "      <td>1</td>\n",
       "      <td>1</td>\n",
       "    </tr>\n",
       "    <tr>\n",
       "      <td>2</td>\n",
       "      <td>11112018-2240-1_11112018-2240-1_1299</td>\n",
       "      <td>3</td>\n",
       "      <td>[25.0]</td>\n",
       "      <td>[24.0]</td>\n",
       "      <td>[16.0]</td>\n",
       "      <td>[2]</td>\n",
       "      <td>[2]</td>\n",
       "      <td>[0]</td>\n",
       "      <td>1</td>\n",
       "      <td>1</td>\n",
       "    </tr>\n",
       "    <tr>\n",
       "      <td>3</td>\n",
       "      <td>11112018-2240-1_11112018-2240-1_1299</td>\n",
       "      <td>4</td>\n",
       "      <td>[25.0]</td>\n",
       "      <td>[23.0]</td>\n",
       "      <td>[16.0]</td>\n",
       "      <td>[2]</td>\n",
       "      <td>[17]</td>\n",
       "      <td>[63]</td>\n",
       "      <td>1</td>\n",
       "      <td>1</td>\n",
       "    </tr>\n",
       "    <tr>\n",
       "      <td>4</td>\n",
       "      <td>11112018-2240-1_11112018-2240-1_1299</td>\n",
       "      <td>5</td>\n",
       "      <td>[25.0]</td>\n",
       "      <td>[23.0]</td>\n",
       "      <td>[16.0]</td>\n",
       "      <td>[2]</td>\n",
       "      <td>[17]</td>\n",
       "      <td>[63]</td>\n",
       "      <td>1</td>\n",
       "      <td>1</td>\n",
       "    </tr>\n",
       "    <tr>\n",
       "      <td>...</td>\n",
       "      <td>...</td>\n",
       "      <td>...</td>\n",
       "      <td>...</td>\n",
       "      <td>...</td>\n",
       "      <td>...</td>\n",
       "      <td>...</td>\n",
       "      <td>...</td>\n",
       "      <td>...</td>\n",
       "      <td>...</td>\n",
       "      <td>...</td>\n",
       "    </tr>\n",
       "    <tr>\n",
       "      <td>116</td>\n",
       "      <td>11112018-2240-1_11112018-2240-1_817</td>\n",
       "      <td>3</td>\n",
       "      <td>[26.0]</td>\n",
       "      <td>[28.0]</td>\n",
       "      <td>[14.0]</td>\n",
       "      <td>[2]</td>\n",
       "      <td>[3]</td>\n",
       "      <td>[39]</td>\n",
       "      <td>1</td>\n",
       "      <td>1</td>\n",
       "    </tr>\n",
       "    <tr>\n",
       "      <td>117</td>\n",
       "      <td>11112018-2240-1_11112018-2240-1_817</td>\n",
       "      <td>4</td>\n",
       "      <td>[26.0]</td>\n",
       "      <td>[28.0]</td>\n",
       "      <td>[13.0]</td>\n",
       "      <td>[1]</td>\n",
       "      <td>[11]</td>\n",
       "      <td>[52]</td>\n",
       "      <td>1</td>\n",
       "      <td>1</td>\n",
       "    </tr>\n",
       "    <tr>\n",
       "      <td>118</td>\n",
       "      <td>11112018-2240-1_11112018-2240-1_817</td>\n",
       "      <td>5</td>\n",
       "      <td>[26.0]</td>\n",
       "      <td>[28.0]</td>\n",
       "      <td>[14.0]</td>\n",
       "      <td>[2]</td>\n",
       "      <td>[11]</td>\n",
       "      <td>[52]</td>\n",
       "      <td>1</td>\n",
       "      <td>1</td>\n",
       "    </tr>\n",
       "    <tr>\n",
       "      <td>119</td>\n",
       "      <td>11112018-2240-1_11112018-2240-1_817</td>\n",
       "      <td>6</td>\n",
       "      <td>[26.0]</td>\n",
       "      <td>[28.0]</td>\n",
       "      <td>[15.0]</td>\n",
       "      <td>[3]</td>\n",
       "      <td>[11]</td>\n",
       "      <td>[52]</td>\n",
       "      <td>1</td>\n",
       "      <td>1</td>\n",
       "    </tr>\n",
       "    <tr>\n",
       "      <td>120</td>\n",
       "      <td>11112018-2240-1_11112018-2240-1_817</td>\n",
       "      <td>7</td>\n",
       "      <td>[26.0]</td>\n",
       "      <td>[28.0]</td>\n",
       "      <td>[14.0]</td>\n",
       "      <td>[2]</td>\n",
       "      <td>[11]</td>\n",
       "      <td>[52]</td>\n",
       "      <td>1</td>\n",
       "      <td>1</td>\n",
       "    </tr>\n",
       "  </tbody>\n",
       "</table>\n",
       "<p>121 rows × 10 columns</p>\n",
       "</div>"
      ],
      "text/plain": [
       "                                  eventId  chbid          xpos          ypos  \\\n",
       "0    11112018-2240-1_11112018-2240-1_1299      1  [26.0, 25.0]  [24.0, 24.0]   \n",
       "1    11112018-2240-1_11112018-2240-1_1299      2        [25.0]        [24.0]   \n",
       "2    11112018-2240-1_11112018-2240-1_1299      3        [25.0]        [24.0]   \n",
       "3    11112018-2240-1_11112018-2240-1_1299      4        [25.0]        [23.0]   \n",
       "4    11112018-2240-1_11112018-2240-1_1299      5        [25.0]        [23.0]   \n",
       "..                                    ...    ...           ...           ...   \n",
       "116   11112018-2240-1_11112018-2240-1_817      3        [26.0]        [28.0]   \n",
       "117   11112018-2240-1_11112018-2240-1_817      4        [26.0]        [28.0]   \n",
       "118   11112018-2240-1_11112018-2240-1_817      5        [26.0]        [28.0]   \n",
       "119   11112018-2240-1_11112018-2240-1_817      6        [26.0]        [28.0]   \n",
       "120   11112018-2240-1_11112018-2240-1_817      7        [26.0]        [28.0]   \n",
       "\n",
       "         dt   digit  chipid  hardid  nhits  tmp  \n",
       "0    [1, 1]  [3, 3]  [4, 2]  [7, 0]      2    2  \n",
       "1    [15.0]     [3]     [2]     [0]      1    1  \n",
       "2    [16.0]     [2]     [2]     [0]      1    1  \n",
       "3    [16.0]     [2]    [17]    [63]      1    1  \n",
       "4    [16.0]     [2]    [17]    [63]      1    1  \n",
       "..      ...     ...     ...     ...    ...  ...  \n",
       "116  [14.0]     [2]     [3]    [39]      1    1  \n",
       "117  [13.0]     [1]    [11]    [52]      1    1  \n",
       "118  [14.0]     [2]    [11]    [52]      1    1  \n",
       "119  [15.0]     [3]    [11]    [52]      1    1  \n",
       "120  [14.0]     [2]    [11]    [52]      1    1  \n",
       "\n",
       "[121 rows x 10 columns]"
      ]
     },
     "execution_count": 77,
     "metadata": {},
     "output_type": "execute_result"
    }
   ],
   "source": [
    "df"
   ]
  },
  {
   "cell_type": "markdown",
   "metadata": {
    "heading_collapsed": true
   },
   "source": [
    "# reading multiplicity and effieicncy results\n"
   ]
  },
  {
   "cell_type": "code",
   "execution_count": 82,
   "metadata": {
    "hidden": true
   },
   "outputs": [
    {
     "data": {
      "text/html": [
       "<div>\n",
       "<style scoped>\n",
       "    .dataframe tbody tr th:only-of-type {\n",
       "        vertical-align: middle;\n",
       "    }\n",
       "\n",
       "    .dataframe tbody tr th {\n",
       "        vertical-align: top;\n",
       "    }\n",
       "\n",
       "    .dataframe thead th {\n",
       "        text-align: right;\n",
       "    }\n",
       "</style>\n",
       "<table border=\"1\" class=\"dataframe\">\n",
       "  <thead>\n",
       "    <tr style=\"text-align: right;\">\n",
       "      <th></th>\n",
       "      <th>chamber</th>\n",
       "      <th>type</th>\n",
       "      <th>efficiency</th>\n",
       "      <th>pool of tracks</th>\n",
       "      <th>average_multiplicity</th>\n",
       "      <th>multiplicidty_std</th>\n",
       "    </tr>\n",
       "  </thead>\n",
       "  <tbody>\n",
       "    <tr>\n",
       "      <td>0</td>\n",
       "      <td>2</td>\n",
       "      <td>Small MM</td>\n",
       "      <td>0.934555</td>\n",
       "      <td>1910</td>\n",
       "      <td>1.096359</td>\n",
       "      <td>0.441300</td>\n",
       "    </tr>\n",
       "    <tr>\n",
       "      <td>1</td>\n",
       "      <td>3</td>\n",
       "      <td>Small MM</td>\n",
       "      <td>0.911249</td>\n",
       "      <td>1938</td>\n",
       "      <td>1.135334</td>\n",
       "      <td>0.511984</td>\n",
       "    </tr>\n",
       "    <tr>\n",
       "      <td>2</td>\n",
       "      <td>4</td>\n",
       "      <td>Large MM</td>\n",
       "      <td>0.869159</td>\n",
       "      <td>2033</td>\n",
       "      <td>1.131862</td>\n",
       "      <td>0.508298</td>\n",
       "    </tr>\n",
       "    <tr>\n",
       "      <td>3</td>\n",
       "      <td>5</td>\n",
       "      <td>Large MM</td>\n",
       "      <td>0.949143</td>\n",
       "      <td>1868</td>\n",
       "      <td>1.132544</td>\n",
       "      <td>0.499352</td>\n",
       "    </tr>\n",
       "    <tr>\n",
       "      <td>4</td>\n",
       "      <td>6</td>\n",
       "      <td>Large MM</td>\n",
       "      <td>0.897397</td>\n",
       "      <td>1998</td>\n",
       "      <td>1.155047</td>\n",
       "      <td>0.546344</td>\n",
       "    </tr>\n",
       "    <tr>\n",
       "      <td>5</td>\n",
       "      <td>7</td>\n",
       "      <td>ASU 61</td>\n",
       "      <td>0.608696</td>\n",
       "      <td>2967</td>\n",
       "      <td>1.146733</td>\n",
       "      <td>0.551058</td>\n",
       "    </tr>\n",
       "    <tr>\n",
       "      <td>6</td>\n",
       "      <td>8</td>\n",
       "      <td>ASU 51</td>\n",
       "      <td>0.519378</td>\n",
       "      <td>3664</td>\n",
       "      <td>1.187599</td>\n",
       "      <td>0.664571</td>\n",
       "    </tr>\n",
       "  </tbody>\n",
       "</table>\n",
       "</div>"
      ],
      "text/plain": [
       "   chamber      type  efficiency  pool of tracks  average_multiplicity  \\\n",
       "0        2  Small MM    0.934555            1910              1.096359   \n",
       "1        3  Small MM    0.911249            1938              1.135334   \n",
       "2        4  Large MM    0.869159            2033              1.131862   \n",
       "3        5  Large MM    0.949143            1868              1.132544   \n",
       "4        6  Large MM    0.897397            1998              1.155047   \n",
       "5        7    ASU 61    0.608696            2967              1.146733   \n",
       "6        8    ASU 51    0.519378            3664              1.187599   \n",
       "\n",
       "   multiplicidty_std  \n",
       "0           0.441300  \n",
       "1           0.511984  \n",
       "2           0.508298  \n",
       "3           0.499352  \n",
       "4           0.546344  \n",
       "5           0.551058  \n",
       "6           0.664571  "
      ]
     },
     "execution_count": 82,
     "metadata": {},
     "output_type": "execute_result"
    }
   ],
   "source": [
    "layers8 = pd.read_csv(\"results/mip_performance_8layers_calo_20200227_1028.csv\")\n",
    "layers8"
   ]
  },
  {
   "cell_type": "code",
   "execution_count": 104,
   "metadata": {
    "hidden": true
   },
   "outputs": [
    {
     "data": {
      "image/png": "[encoded data removed]",
      "text/plain": [
       "<Figure size 432x288 with 2 Axes>"
      ]
     },
     "metadata": {
      "needs_background": "light"
     },
     "output_type": "display_data"
    }
   ],
   "source": [
    "\n",
    "\n",
    "fig, ax1 = plt.subplots()\n",
    "\n",
    "color = 'tab:red'\n",
    "ax1.set_xlabel('chamber number')\n",
    "ax1.set_ylabel('MIP detection efficiency', color=color)\n",
    "ax1.errorbar(layers8.chamber, layers8.efficiency, yerr = layers8['pool of tracks'].agg(lambda x: 1/np.sqrt(x)),\n",
    "             color=color, fmt='o', capsize=10)\n",
    "ax1.tick_params(axis='y', labelcolor=color)\n",
    "\n",
    "ax2 = ax1.twinx()  # instantiate a second axes that shares the same x-axis\n",
    "\n",
    "color = 'tab:blue'\n",
    "ax2.set_ylabel('average pad multiplicity', color=color)  # we already handled the x-label with ax1\n",
    "ax2.errorbar(layers8.chamber, layers8.average_multiplicity, yerr=layers8.multiplicidty_std, fmt='s',\n",
    "             color=color, capsize=5)\n",
    "ax2.tick_params(axis='y', labelcolor=color)\n",
    "\n",
    "fig.tight_layout()  # otherwise the right y-label is slightly clipped\n",
    "plt.show()"
   ]
  },
  {
   "cell_type": "code",
   "execution_count": 105,
   "metadata": {
    "hidden": true
   },
   "outputs": [
    {
     "data": {
      "text/html": [
       "<div>\n",
       "<style scoped>\n",
       "    .dataframe tbody tr th:only-of-type {\n",
       "        vertical-align: middle;\n",
       "    }\n",
       "\n",
       "    .dataframe tbody tr th {\n",
       "        vertical-align: top;\n",
       "    }\n",
       "\n",
       "    .dataframe thead th {\n",
       "        text-align: right;\n",
       "    }\n",
       "</style>\n",
       "<table border=\"1\" class=\"dataframe\">\n",
       "  <thead>\n",
       "    <tr style=\"text-align: right;\">\n",
       "      <th></th>\n",
       "      <th>chamber</th>\n",
       "      <th>type</th>\n",
       "      <th>efficiency</th>\n",
       "      <th>pool of tracks</th>\n",
       "      <th>average_multiplicity</th>\n",
       "      <th>multiplicity_std</th>\n",
       "    </tr>\n",
       "  </thead>\n",
       "  <tbody>\n",
       "    <tr>\n",
       "      <td>0</td>\n",
       "      <td>2</td>\n",
       "      <td>Small MM</td>\n",
       "      <td>0.929302</td>\n",
       "      <td>4696</td>\n",
       "      <td>1.093721</td>\n",
       "      <td>0.441558</td>\n",
       "    </tr>\n",
       "    <tr>\n",
       "      <td>1</td>\n",
       "      <td>3</td>\n",
       "      <td>Small MM</td>\n",
       "      <td>0.919535</td>\n",
       "      <td>4735</td>\n",
       "      <td>1.146073</td>\n",
       "      <td>0.528772</td>\n",
       "    </tr>\n",
       "    <tr>\n",
       "      <td>2</td>\n",
       "      <td>4</td>\n",
       "      <td>Large MM</td>\n",
       "      <td>0.888502</td>\n",
       "      <td>4879</td>\n",
       "      <td>1.150404</td>\n",
       "      <td>0.540030</td>\n",
       "    </tr>\n",
       "    <tr>\n",
       "      <td>3</td>\n",
       "      <td>5</td>\n",
       "      <td>Large MM</td>\n",
       "      <td>0.951532</td>\n",
       "      <td>4601</td>\n",
       "      <td>1.154180</td>\n",
       "      <td>0.543919</td>\n",
       "    </tr>\n",
       "    <tr>\n",
       "      <td>4</td>\n",
       "      <td>6</td>\n",
       "      <td>Large MM</td>\n",
       "      <td>0.897869</td>\n",
       "      <td>4974</td>\n",
       "      <td>1.162562</td>\n",
       "      <td>0.571825</td>\n",
       "    </tr>\n",
       "    <tr>\n",
       "      <td>5</td>\n",
       "      <td>7</td>\n",
       "      <td>ASU 61</td>\n",
       "      <td>0.622962</td>\n",
       "      <td>7482</td>\n",
       "      <td>1.162197</td>\n",
       "      <td>0.613402</td>\n",
       "    </tr>\n",
       "  </tbody>\n",
       "</table>\n",
       "</div>"
      ],
      "text/plain": [
       "   chamber      type  efficiency  pool of tracks  average_multiplicity  \\\n",
       "0        2  Small MM    0.929302            4696              1.093721   \n",
       "1        3  Small MM    0.919535            4735              1.146073   \n",
       "2        4  Large MM    0.888502            4879              1.150404   \n",
       "3        5  Large MM    0.951532            4601              1.154180   \n",
       "4        6  Large MM    0.897869            4974              1.162562   \n",
       "5        7    ASU 61    0.622962            7482              1.162197   \n",
       "\n",
       "   multiplicity_std  \n",
       "0          0.441558  \n",
       "1          0.528772  \n",
       "2          0.540030  \n",
       "3          0.543919  \n",
       "4          0.571825  \n",
       "5          0.613402  "
      ]
     },
     "execution_count": 105,
     "metadata": {},
     "output_type": "execute_result"
    }
   ],
   "source": [
    "layers7 = pd.read_csv(\"results/mip_performance_7layers_calo_20200227_1319.csv\")\n",
    "layers7"
   ]
  },
  {
   "cell_type": "code",
   "execution_count": 134,
   "metadata": {
    "hidden": true
   },
   "outputs": [
    {
     "data": {
      "image/png": "[encoded data removed]",
      "text/plain": [
       "<Figure size 432x288 with 2 Axes>"
      ]
     },
     "metadata": {
      "needs_background": "light"
     },
     "output_type": "display_data"
    }
   ],
   "source": [
    "\n",
    "\n",
    "fig, ax1 = plt.subplots()\n",
    "\n",
    "color = 'tab:red'\n",
    "ax1.set_xlabel('chamber number')\n",
    "ax1.set_ylabel('MIP detection efficiency', color=color)\n",
    "ax1.errorbar(layers8.chamber, layers8.efficiency, yerr = layers8['pool of tracks'].agg(lambda x: 1/np.sqrt(x)),\n",
    "             color=color, fmt='o', capsize=10)\n",
    "ax1.errorbar(layers7.chamber, layers7.efficiency, yerr = layers7['pool of tracks'].agg(lambda x: 1/np.sqrt(x)),\n",
    "             color='tab:green', fmt='x', capsize=10)\n",
    "ax1.tick_params(axis='y', labelcolor=color)\n",
    "\n",
    "ax2 = ax1.twinx()  # instantiate a second axes that shares the same x-axis\n",
    "\n",
    "color = 'tab:blue'\n",
    "ax2.set_ylabel('average pad multiplicity', color=color)  # we already handled the x-label with ax1\n",
    "ax2.errorbar(layers8.chamber, layers8.average_multiplicity, yerr=layers8.multiplicidty_std, fmt='s',\n",
    "             color=color, capsize=5)\n",
    "ax2.errorbar(layers7.chamber, layers7.average_multiplicity, yerr=layers7.multiplicity_std, fmt='^',\n",
    "             color='tab:purple', capsize=5)\n",
    "ax2.tick_params(axis='y', labelcolor=color)\n",
    "fig.legend(['8-layers efficiency', '7-layers efficiency', '8-layers multiplicity', '7-layers multiplicity'], \n",
    "           bbox_to_anchor=(0.5,-0.1), loc=\"lower center\", \n",
    "                bbox_transform=fig.transFigure, ncol=4)\n",
    "fig.tight_layout()  # otherwise the right y-label is slightly clipped\n",
    "plt.show()"
   ]
  },
  {
   "cell_type": "markdown",
   "metadata": {},
   "source": [
    "# Pad multiplicity investigations"
   ]
  },
  {
   "cell_type": "code",
   "execution_count": 24,
   "metadata": {},
   "outputs": [
    {
     "data": {
      "text/html": [
       "<div>\n",
       "<style scoped>\n",
       "    .dataframe tbody tr th:only-of-type {\n",
       "        vertical-align: middle;\n",
       "    }\n",
       "\n",
       "    .dataframe tbody tr th {\n",
       "        vertical-align: top;\n",
       "    }\n",
       "\n",
       "    .dataframe thead th {\n",
       "        text-align: right;\n",
       "    }\n",
       "</style>\n",
       "<table border=\"1\" class=\"dataframe\">\n",
       "  <thead>\n",
       "    <tr style=\"text-align: right;\">\n",
       "      <th></th>\n",
       "      <th>Unnamed: 0</th>\n",
       "      <th>caloId</th>\n",
       "      <th>chbid</th>\n",
       "      <th>chipid</th>\n",
       "      <th>digit</th>\n",
       "      <th>dt</th>\n",
       "      <th>eventId</th>\n",
       "      <th>hardid</th>\n",
       "      <th>id</th>\n",
       "      <th>nhits</th>\n",
       "      <th>xpos</th>\n",
       "      <th>ypos</th>\n",
       "      <th>zx</th>\n",
       "      <th>zx0</th>\n",
       "      <th>zx1</th>\n",
       "      <th>zy</th>\n",
       "      <th>zy0</th>\n",
       "      <th>zy1</th>\n",
       "      <th>cl_members</th>\n",
       "    </tr>\n",
       "  </thead>\n",
       "  <tbody>\n",
       "    <tr>\n",
       "      <td>0</td>\n",
       "      <td>57</td>\n",
       "      <td>11112018-2240-1_11112018-2240-1_1014_9363.0</td>\n",
       "      <td>1</td>\n",
       "      <td>[2, 2]</td>\n",
       "      <td>[2, 3]</td>\n",
       "      <td>[9364.0, 9364.0]</td>\n",
       "      <td>['11112018-2240-1_1014', '11112018-2240-1_1014']</td>\n",
       "      <td>[26, 34]</td>\n",
       "      <td>[('11112018-2240-1_1014', 9364.0), ('11112018-...</td>\n",
       "      <td>2</td>\n",
       "      <td>[23.0, 23.0]</td>\n",
       "      <td>[21.0, 20.0]</td>\n",
       "      <td>NaN</td>\n",
       "      <td>-2.154476e-15</td>\n",
       "      <td>23.0</td>\n",
       "      <td>NaN</td>\n",
       "      <td>-0.172269</td>\n",
       "      <td>20.819328</td>\n",
       "      <td>[array([23., 21.]), array([23., 21.]), array([...</td>\n",
       "    </tr>\n",
       "    <tr>\n",
       "      <td>1</td>\n",
       "      <td>58</td>\n",
       "      <td>11112018-2240-1_11112018-2240-1_1014_9363.0</td>\n",
       "      <td>2</td>\n",
       "      <td>[2]</td>\n",
       "      <td>[2]</td>\n",
       "      <td>[9363.0]</td>\n",
       "      <td>['11112018-2240-1_1014']</td>\n",
       "      <td>[26]</td>\n",
       "      <td>[('11112018-2240-1_1014', 9363.0)]</td>\n",
       "      <td>1</td>\n",
       "      <td>[23.0]</td>\n",
       "      <td>[21.0]</td>\n",
       "      <td>NaN</td>\n",
       "      <td>-2.154476e-15</td>\n",
       "      <td>23.0</td>\n",
       "      <td>NaN</td>\n",
       "      <td>-0.172269</td>\n",
       "      <td>20.819328</td>\n",
       "      <td>[array([23., 21.])]</td>\n",
       "    </tr>\n",
       "    <tr>\n",
       "      <td>2</td>\n",
       "      <td>59</td>\n",
       "      <td>11112018-2240-1_11112018-2240-1_1014_9363.0</td>\n",
       "      <td>3</td>\n",
       "      <td>[2]</td>\n",
       "      <td>[1]</td>\n",
       "      <td>[9363.0]</td>\n",
       "      <td>['11112018-2240-1_1014']</td>\n",
       "      <td>[34]</td>\n",
       "      <td>[('11112018-2240-1_1014', 9363.0)]</td>\n",
       "      <td>1</td>\n",
       "      <td>[23.0]</td>\n",
       "      <td>[20.0]</td>\n",
       "      <td>NaN</td>\n",
       "      <td>-2.154476e-15</td>\n",
       "      <td>23.0</td>\n",
       "      <td>NaN</td>\n",
       "      <td>-0.172269</td>\n",
       "      <td>20.819328</td>\n",
       "      <td>[array([23., 20.])]</td>\n",
       "    </tr>\n",
       "    <tr>\n",
       "      <td>3</td>\n",
       "      <td>60</td>\n",
       "      <td>11112018-2240-1_11112018-2240-1_1014_9363.0</td>\n",
       "      <td>4</td>\n",
       "      <td>[18]</td>\n",
       "      <td>[1]</td>\n",
       "      <td>[9363.0]</td>\n",
       "      <td>['11112018-2240-1_1014']</td>\n",
       "      <td>[12]</td>\n",
       "      <td>[('11112018-2240-1_1014', 9363.0)]</td>\n",
       "      <td>1</td>\n",
       "      <td>[23.0]</td>\n",
       "      <td>[20.0]</td>\n",
       "      <td>NaN</td>\n",
       "      <td>-2.154476e-15</td>\n",
       "      <td>23.0</td>\n",
       "      <td>NaN</td>\n",
       "      <td>-0.172269</td>\n",
       "      <td>20.819328</td>\n",
       "      <td>[array([23., 20.])]</td>\n",
       "    </tr>\n",
       "    <tr>\n",
       "      <td>4</td>\n",
       "      <td>61</td>\n",
       "      <td>11112018-2240-1_11112018-2240-1_1014_9363.0</td>\n",
       "      <td>5</td>\n",
       "      <td>[18]</td>\n",
       "      <td>[2]</td>\n",
       "      <td>[9363.0]</td>\n",
       "      <td>['11112018-2240-1_1014']</td>\n",
       "      <td>[12]</td>\n",
       "      <td>[('11112018-2240-1_1014', 9363.0)]</td>\n",
       "      <td>1</td>\n",
       "      <td>[23.0]</td>\n",
       "      <td>[20.0]</td>\n",
       "      <td>NaN</td>\n",
       "      <td>-2.154476e-15</td>\n",
       "      <td>23.0</td>\n",
       "      <td>NaN</td>\n",
       "      <td>-0.172269</td>\n",
       "      <td>20.819328</td>\n",
       "      <td>[array([23., 20.])]</td>\n",
       "    </tr>\n",
       "  </tbody>\n",
       "</table>\n",
       "</div>"
      ],
      "text/plain": [
       "   Unnamed: 0                                       caloId  chbid  chipid  \\\n",
       "0          57  11112018-2240-1_11112018-2240-1_1014_9363.0      1  [2, 2]   \n",
       "1          58  11112018-2240-1_11112018-2240-1_1014_9363.0      2     [2]   \n",
       "2          59  11112018-2240-1_11112018-2240-1_1014_9363.0      3     [2]   \n",
       "3          60  11112018-2240-1_11112018-2240-1_1014_9363.0      4    [18]   \n",
       "4          61  11112018-2240-1_11112018-2240-1_1014_9363.0      5    [18]   \n",
       "\n",
       "    digit                dt                                           eventId  \\\n",
       "0  [2, 3]  [9364.0, 9364.0]  ['11112018-2240-1_1014', '11112018-2240-1_1014']   \n",
       "1     [2]          [9363.0]                          ['11112018-2240-1_1014']   \n",
       "2     [1]          [9363.0]                          ['11112018-2240-1_1014']   \n",
       "3     [1]          [9363.0]                          ['11112018-2240-1_1014']   \n",
       "4     [2]          [9363.0]                          ['11112018-2240-1_1014']   \n",
       "\n",
       "     hardid                                                 id  nhits  \\\n",
       "0  [26, 34]  [('11112018-2240-1_1014', 9364.0), ('11112018-...      2   \n",
       "1      [26]                 [('11112018-2240-1_1014', 9363.0)]      1   \n",
       "2      [34]                 [('11112018-2240-1_1014', 9363.0)]      1   \n",
       "3      [12]                 [('11112018-2240-1_1014', 9363.0)]      1   \n",
       "4      [12]                 [('11112018-2240-1_1014', 9363.0)]      1   \n",
       "\n",
       "           xpos          ypos  zx           zx0   zx1  zy       zy0  \\\n",
       "0  [23.0, 23.0]  [21.0, 20.0] NaN -2.154476e-15  23.0 NaN -0.172269   \n",
       "1        [23.0]        [21.0] NaN -2.154476e-15  23.0 NaN -0.172269   \n",
       "2        [23.0]        [20.0] NaN -2.154476e-15  23.0 NaN -0.172269   \n",
       "3        [23.0]        [20.0] NaN -2.154476e-15  23.0 NaN -0.172269   \n",
       "4        [23.0]        [20.0] NaN -2.154476e-15  23.0 NaN -0.172269   \n",
       "\n",
       "         zy1                                         cl_members  \n",
       "0  20.819328  [array([23., 21.]), array([23., 21.]), array([...  \n",
       "1  20.819328                                [array([23., 21.])]  \n",
       "2  20.819328                                [array([23., 20.])]  \n",
       "3  20.819328                                [array([23., 20.])]  \n",
       "4  20.819328                                [array([23., 20.])]  "
      ]
     },
     "execution_count": 24,
     "metadata": {},
     "output_type": "execute_result"
    }
   ],
   "source": [
    "mip_df = pd.read_csv('mips_with_clusters_20200312_1859.csv')\n",
    "mip_df.head()"
   ]
  },
  {
   "cell_type": "code",
   "execution_count": 27,
   "metadata": {},
   "outputs": [
    {
     "data": {
      "text/html": [
       "<div>\n",
       "<style scoped>\n",
       "    .dataframe tbody tr th:only-of-type {\n",
       "        vertical-align: middle;\n",
       "    }\n",
       "\n",
       "    .dataframe tbody tr th {\n",
       "        vertical-align: top;\n",
       "    }\n",
       "\n",
       "    .dataframe thead th {\n",
       "        text-align: right;\n",
       "    }\n",
       "</style>\n",
       "<table border=\"1\" class=\"dataframe\">\n",
       "  <thead>\n",
       "    <tr style=\"text-align: right;\">\n",
       "      <th></th>\n",
       "      <th>Unnamed: 0</th>\n",
       "      <th>chbid</th>\n",
       "      <th>chipid</th>\n",
       "      <th>digit</th>\n",
       "      <th>dt</th>\n",
       "      <th>eventId</th>\n",
       "      <th>hardid</th>\n",
       "      <th>id</th>\n",
       "      <th>nhits</th>\n",
       "      <th>xpos</th>\n",
       "      <th>ypos</th>\n",
       "      <th>zx</th>\n",
       "      <th>zx0</th>\n",
       "      <th>zx1</th>\n",
       "      <th>zy</th>\n",
       "      <th>zy0</th>\n",
       "      <th>zy1</th>\n",
       "      <th>cl_members</th>\n",
       "    </tr>\n",
       "    <tr>\n",
       "      <th>caloId</th>\n",
       "      <th></th>\n",
       "      <th></th>\n",
       "      <th></th>\n",
       "      <th></th>\n",
       "      <th></th>\n",
       "      <th></th>\n",
       "      <th></th>\n",
       "      <th></th>\n",
       "      <th></th>\n",
       "      <th></th>\n",
       "      <th></th>\n",
       "      <th></th>\n",
       "      <th></th>\n",
       "      <th></th>\n",
       "      <th></th>\n",
       "      <th></th>\n",
       "      <th></th>\n",
       "      <th></th>\n",
       "    </tr>\n",
       "  </thead>\n",
       "  <tbody>\n",
       "    <tr>\n",
       "      <td>11112018-2240-1_11112018-2240-1_1014_9363.0</td>\n",
       "      <td>8</td>\n",
       "      <td>8</td>\n",
       "      <td>3</td>\n",
       "      <td>3</td>\n",
       "      <td>2</td>\n",
       "      <td>2</td>\n",
       "      <td>5</td>\n",
       "      <td>2</td>\n",
       "      <td>2</td>\n",
       "      <td>2</td>\n",
       "      <td>4</td>\n",
       "      <td>8.0</td>\n",
       "      <td>1.0</td>\n",
       "      <td>1.0</td>\n",
       "      <td>8.0</td>\n",
       "      <td>1.0</td>\n",
       "      <td>1.0</td>\n",
       "      <td>4</td>\n",
       "    </tr>\n",
       "    <tr>\n",
       "      <td>11112018-2240-1_11112018-2240-1_1022_3907.0</td>\n",
       "      <td>7</td>\n",
       "      <td>7</td>\n",
       "      <td>3</td>\n",
       "      <td>4</td>\n",
       "      <td>4</td>\n",
       "      <td>2</td>\n",
       "      <td>4</td>\n",
       "      <td>4</td>\n",
       "      <td>2</td>\n",
       "      <td>3</td>\n",
       "      <td>3</td>\n",
       "      <td>7.0</td>\n",
       "      <td>1.0</td>\n",
       "      <td>1.0</td>\n",
       "      <td>7.0</td>\n",
       "      <td>1.0</td>\n",
       "      <td>1.0</td>\n",
       "      <td>3</td>\n",
       "    </tr>\n",
       "    <tr>\n",
       "      <td>11112018-2240-1_11112018-2240-1_1126_412.0</td>\n",
       "      <td>7</td>\n",
       "      <td>7</td>\n",
       "      <td>3</td>\n",
       "      <td>3</td>\n",
       "      <td>4</td>\n",
       "      <td>2</td>\n",
       "      <td>4</td>\n",
       "      <td>4</td>\n",
       "      <td>2</td>\n",
       "      <td>3</td>\n",
       "      <td>2</td>\n",
       "      <td>7.0</td>\n",
       "      <td>1.0</td>\n",
       "      <td>1.0</td>\n",
       "      <td>7.0</td>\n",
       "      <td>1.0</td>\n",
       "      <td>1.0</td>\n",
       "      <td>3</td>\n",
       "    </tr>\n",
       "    <tr>\n",
       "      <td>11112018-2240-1_11112018-2240-1_1136_3940.0</td>\n",
       "      <td>7</td>\n",
       "      <td>7</td>\n",
       "      <td>4</td>\n",
       "      <td>3</td>\n",
       "      <td>3</td>\n",
       "      <td>2</td>\n",
       "      <td>4</td>\n",
       "      <td>3</td>\n",
       "      <td>2</td>\n",
       "      <td>3</td>\n",
       "      <td>2</td>\n",
       "      <td>7.0</td>\n",
       "      <td>1.0</td>\n",
       "      <td>1.0</td>\n",
       "      <td>7.0</td>\n",
       "      <td>1.0</td>\n",
       "      <td>1.0</td>\n",
       "      <td>3</td>\n",
       "    </tr>\n",
       "    <tr>\n",
       "      <td>11112018-2240-1_11112018-2240-1_1145_911.0</td>\n",
       "      <td>8</td>\n",
       "      <td>8</td>\n",
       "      <td>3</td>\n",
       "      <td>4</td>\n",
       "      <td>3</td>\n",
       "      <td>2</td>\n",
       "      <td>3</td>\n",
       "      <td>3</td>\n",
       "      <td>2</td>\n",
       "      <td>2</td>\n",
       "      <td>2</td>\n",
       "      <td>8.0</td>\n",
       "      <td>1.0</td>\n",
       "      <td>1.0</td>\n",
       "      <td>8.0</td>\n",
       "      <td>1.0</td>\n",
       "      <td>1.0</td>\n",
       "      <td>2</td>\n",
       "    </tr>\n",
       "    <tr>\n",
       "      <td>...</td>\n",
       "      <td>...</td>\n",
       "      <td>...</td>\n",
       "      <td>...</td>\n",
       "      <td>...</td>\n",
       "      <td>...</td>\n",
       "      <td>...</td>\n",
       "      <td>...</td>\n",
       "      <td>...</td>\n",
       "      <td>...</td>\n",
       "      <td>...</td>\n",
       "      <td>...</td>\n",
       "      <td>...</td>\n",
       "      <td>...</td>\n",
       "      <td>...</td>\n",
       "      <td>...</td>\n",
       "      <td>...</td>\n",
       "      <td>...</td>\n",
       "      <td>...</td>\n",
       "    </tr>\n",
       "    <tr>\n",
       "      <td>12112018-0724-1_12112018-0724-1_933_423.0</td>\n",
       "      <td>7</td>\n",
       "      <td>7</td>\n",
       "      <td>4</td>\n",
       "      <td>4</td>\n",
       "      <td>5</td>\n",
       "      <td>2</td>\n",
       "      <td>5</td>\n",
       "      <td>5</td>\n",
       "      <td>2</td>\n",
       "      <td>4</td>\n",
       "      <td>4</td>\n",
       "      <td>7.0</td>\n",
       "      <td>1.0</td>\n",
       "      <td>1.0</td>\n",
       "      <td>7.0</td>\n",
       "      <td>1.0</td>\n",
       "      <td>1.0</td>\n",
       "      <td>5</td>\n",
       "    </tr>\n",
       "    <tr>\n",
       "      <td>12112018-0724-1_12112018-0724-1_938_2298.0</td>\n",
       "      <td>8</td>\n",
       "      <td>8</td>\n",
       "      <td>3</td>\n",
       "      <td>3</td>\n",
       "      <td>4</td>\n",
       "      <td>2</td>\n",
       "      <td>5</td>\n",
       "      <td>4</td>\n",
       "      <td>2</td>\n",
       "      <td>2</td>\n",
       "      <td>4</td>\n",
       "      <td>8.0</td>\n",
       "      <td>1.0</td>\n",
       "      <td>1.0</td>\n",
       "      <td>8.0</td>\n",
       "      <td>1.0</td>\n",
       "      <td>1.0</td>\n",
       "      <td>4</td>\n",
       "    </tr>\n",
       "    <tr>\n",
       "      <td>12112018-0724-1_12112018-0724-1_984_14.0</td>\n",
       "      <td>8</td>\n",
       "      <td>8</td>\n",
       "      <td>4</td>\n",
       "      <td>5</td>\n",
       "      <td>5</td>\n",
       "      <td>3</td>\n",
       "      <td>4</td>\n",
       "      <td>5</td>\n",
       "      <td>3</td>\n",
       "      <td>4</td>\n",
       "      <td>4</td>\n",
       "      <td>8.0</td>\n",
       "      <td>1.0</td>\n",
       "      <td>1.0</td>\n",
       "      <td>8.0</td>\n",
       "      <td>1.0</td>\n",
       "      <td>1.0</td>\n",
       "      <td>4</td>\n",
       "    </tr>\n",
       "    <tr>\n",
       "      <td>12112018-0724-1_12112018-0724-1_990_1163.0</td>\n",
       "      <td>7</td>\n",
       "      <td>7</td>\n",
       "      <td>3</td>\n",
       "      <td>4</td>\n",
       "      <td>3</td>\n",
       "      <td>2</td>\n",
       "      <td>3</td>\n",
       "      <td>3</td>\n",
       "      <td>2</td>\n",
       "      <td>2</td>\n",
       "      <td>3</td>\n",
       "      <td>7.0</td>\n",
       "      <td>1.0</td>\n",
       "      <td>1.0</td>\n",
       "      <td>7.0</td>\n",
       "      <td>1.0</td>\n",
       "      <td>1.0</td>\n",
       "      <td>3</td>\n",
       "    </tr>\n",
       "    <tr>\n",
       "      <td>12112018-0724-1_12112018-0724-1_990_254.0</td>\n",
       "      <td>7</td>\n",
       "      <td>7</td>\n",
       "      <td>4</td>\n",
       "      <td>5</td>\n",
       "      <td>3</td>\n",
       "      <td>2</td>\n",
       "      <td>5</td>\n",
       "      <td>3</td>\n",
       "      <td>2</td>\n",
       "      <td>4</td>\n",
       "      <td>4</td>\n",
       "      <td>7.0</td>\n",
       "      <td>1.0</td>\n",
       "      <td>1.0</td>\n",
       "      <td>7.0</td>\n",
       "      <td>1.0</td>\n",
       "      <td>1.0</td>\n",
       "      <td>5</td>\n",
       "    </tr>\n",
       "  </tbody>\n",
       "</table>\n",
       "<p>6028 rows × 18 columns</p>\n",
       "</div>"
      ],
      "text/plain": [
       "                                             Unnamed: 0  chbid  chipid  digit  \\\n",
       "caloId                                                                          \n",
       "11112018-2240-1_11112018-2240-1_1014_9363.0           8      8       3      3   \n",
       "11112018-2240-1_11112018-2240-1_1022_3907.0           7      7       3      4   \n",
       "11112018-2240-1_11112018-2240-1_1126_412.0            7      7       3      3   \n",
       "11112018-2240-1_11112018-2240-1_1136_3940.0           7      7       4      3   \n",
       "11112018-2240-1_11112018-2240-1_1145_911.0            8      8       3      4   \n",
       "...                                                 ...    ...     ...    ...   \n",
       "12112018-0724-1_12112018-0724-1_933_423.0             7      7       4      4   \n",
       "12112018-0724-1_12112018-0724-1_938_2298.0            8      8       3      3   \n",
       "12112018-0724-1_12112018-0724-1_984_14.0              8      8       4      5   \n",
       "12112018-0724-1_12112018-0724-1_990_1163.0            7      7       3      4   \n",
       "12112018-0724-1_12112018-0724-1_990_254.0             7      7       4      5   \n",
       "\n",
       "                                             dt  eventId  hardid  id  nhits  \\\n",
       "caloId                                                                        \n",
       "11112018-2240-1_11112018-2240-1_1014_9363.0   2        2       5   2      2   \n",
       "11112018-2240-1_11112018-2240-1_1022_3907.0   4        2       4   4      2   \n",
       "11112018-2240-1_11112018-2240-1_1126_412.0    4        2       4   4      2   \n",
       "11112018-2240-1_11112018-2240-1_1136_3940.0   3        2       4   3      2   \n",
       "11112018-2240-1_11112018-2240-1_1145_911.0    3        2       3   3      2   \n",
       "...                                          ..      ...     ...  ..    ...   \n",
       "12112018-0724-1_12112018-0724-1_933_423.0     5        2       5   5      2   \n",
       "12112018-0724-1_12112018-0724-1_938_2298.0    4        2       5   4      2   \n",
       "12112018-0724-1_12112018-0724-1_984_14.0      5        3       4   5      3   \n",
       "12112018-0724-1_12112018-0724-1_990_1163.0    3        2       3   3      2   \n",
       "12112018-0724-1_12112018-0724-1_990_254.0     3        2       5   3      2   \n",
       "\n",
       "                                             xpos  ypos   zx  zx0  zx1   zy  \\\n",
       "caloId                                                                        \n",
       "11112018-2240-1_11112018-2240-1_1014_9363.0     2     4  8.0  1.0  1.0  8.0   \n",
       "11112018-2240-1_11112018-2240-1_1022_3907.0     3     3  7.0  1.0  1.0  7.0   \n",
       "11112018-2240-1_11112018-2240-1_1126_412.0      3     2  7.0  1.0  1.0  7.0   \n",
       "11112018-2240-1_11112018-2240-1_1136_3940.0     3     2  7.0  1.0  1.0  7.0   \n",
       "11112018-2240-1_11112018-2240-1_1145_911.0      2     2  8.0  1.0  1.0  8.0   \n",
       "...                                           ...   ...  ...  ...  ...  ...   \n",
       "12112018-0724-1_12112018-0724-1_933_423.0       4     4  7.0  1.0  1.0  7.0   \n",
       "12112018-0724-1_12112018-0724-1_938_2298.0      2     4  8.0  1.0  1.0  8.0   \n",
       "12112018-0724-1_12112018-0724-1_984_14.0        4     4  8.0  1.0  1.0  8.0   \n",
       "12112018-0724-1_12112018-0724-1_990_1163.0      2     3  7.0  1.0  1.0  7.0   \n",
       "12112018-0724-1_12112018-0724-1_990_254.0       4     4  7.0  1.0  1.0  7.0   \n",
       "\n",
       "                                             zy0  zy1  cl_members  \n",
       "caloId                                                             \n",
       "11112018-2240-1_11112018-2240-1_1014_9363.0  1.0  1.0           4  \n",
       "11112018-2240-1_11112018-2240-1_1022_3907.0  1.0  1.0           3  \n",
       "11112018-2240-1_11112018-2240-1_1126_412.0   1.0  1.0           3  \n",
       "11112018-2240-1_11112018-2240-1_1136_3940.0  1.0  1.0           3  \n",
       "11112018-2240-1_11112018-2240-1_1145_911.0   1.0  1.0           2  \n",
       "...                                          ...  ...         ...  \n",
       "12112018-0724-1_12112018-0724-1_933_423.0    1.0  1.0           5  \n",
       "12112018-0724-1_12112018-0724-1_938_2298.0   1.0  1.0           4  \n",
       "12112018-0724-1_12112018-0724-1_984_14.0     1.0  1.0           4  \n",
       "12112018-0724-1_12112018-0724-1_990_1163.0   1.0  1.0           3  \n",
       "12112018-0724-1_12112018-0724-1_990_254.0    1.0  1.0           5  \n",
       "\n",
       "[6028 rows x 18 columns]"
      ]
     },
     "execution_count": 27,
     "metadata": {},
     "output_type": "execute_result"
    }
   ],
   "source": [
    "mip_df.groupby('caloId').agg(lambda x: len(set(x))) "
   ]
  },
  {
   "cell_type": "code",
   "execution_count": 23,
   "metadata": {},
   "outputs": [
    {
     "ename": "KeyError",
     "evalue": "\"None of [Index(['test new col1', 'test new col2'], dtype='object')] are in the [columns]\"",
     "output_type": "error",
     "traceback": [
      "\u001b[0;31m---------------------------------------------------------------------------\u001b[0m",
      "\u001b[0;31mKeyError\u001b[0m                                  Traceback (most recent call last)",
      "\u001b[0;32m<ipython-input-23-b6604e3bcfa5>\u001b[0m in \u001b[0;36m<module>\u001b[0;34m\u001b[0m\n\u001b[1;32m      1\u001b[0m \u001b[0;31m# temp\u001b[0m\u001b[0;34m\u001b[0m\u001b[0;34m\u001b[0m\u001b[0;34m\u001b[0m\u001b[0m\n\u001b[0;32m----> 2\u001b[0;31m \u001b[0mmip_df\u001b[0m\u001b[0;34m[\u001b[0m\u001b[0;34m[\u001b[0m\u001b[0;34m'test new col1'\u001b[0m\u001b[0;34m,\u001b[0m \u001b[0;34m'test new col2'\u001b[0m\u001b[0;34m]\u001b[0m\u001b[0;34m]\u001b[0m \u001b[0;34m=\u001b[0m \u001b[0mnp\u001b[0m\u001b[0;34m.\u001b[0m\u001b[0mfull\u001b[0m\u001b[0;34m(\u001b[0m\u001b[0;34m(\u001b[0m\u001b[0;36m2\u001b[0m\u001b[0;34m,\u001b[0m\u001b[0mlen\u001b[0m\u001b[0;34m(\u001b[0m\u001b[0mmip_df\u001b[0m\u001b[0;34m)\u001b[0m\u001b[0;34m)\u001b[0m\u001b[0;34m,\u001b[0m \u001b[0;36m10\u001b[0m\u001b[0;34m)\u001b[0m\u001b[0;34m\u001b[0m\u001b[0;34m\u001b[0m\u001b[0m\n\u001b[0m\u001b[1;32m      3\u001b[0m \u001b[0mmip_df\u001b[0m\u001b[0;34m.\u001b[0m\u001b[0mhead\u001b[0m\u001b[0;34m(\u001b[0m\u001b[0;34m)\u001b[0m\u001b[0;34m\u001b[0m\u001b[0;34m\u001b[0m\u001b[0m\n",
      "\u001b[0;32m/Library/Frameworks/Python.framework/Versions/3.7/lib/python3.7/site-packages/pandas/core/frame.py\u001b[0m in \u001b[0;36m__setitem__\u001b[0;34m(self, key, value)\u001b[0m\n\u001b[1;32m   3467\u001b[0m             \u001b[0mself\u001b[0m\u001b[0;34m.\u001b[0m\u001b[0m_setitem_frame\u001b[0m\u001b[0;34m(\u001b[0m\u001b[0mkey\u001b[0m\u001b[0;34m,\u001b[0m \u001b[0mvalue\u001b[0m\u001b[0;34m)\u001b[0m\u001b[0;34m\u001b[0m\u001b[0;34m\u001b[0m\u001b[0m\n\u001b[1;32m   3468\u001b[0m         \u001b[0;32melif\u001b[0m \u001b[0misinstance\u001b[0m\u001b[0;34m(\u001b[0m\u001b[0mkey\u001b[0m\u001b[0;34m,\u001b[0m \u001b[0;34m(\u001b[0m\u001b[0mSeries\u001b[0m\u001b[0;34m,\u001b[0m \u001b[0mnp\u001b[0m\u001b[0;34m.\u001b[0m\u001b[0mndarray\u001b[0m\u001b[0;34m,\u001b[0m \u001b[0mlist\u001b[0m\u001b[0;34m,\u001b[0m \u001b[0mIndex\u001b[0m\u001b[0;34m)\u001b[0m\u001b[0;34m)\u001b[0m\u001b[0;34m:\u001b[0m\u001b[0;34m\u001b[0m\u001b[0;34m\u001b[0m\u001b[0m\n\u001b[0;32m-> 3469\u001b[0;31m             \u001b[0mself\u001b[0m\u001b[0;34m.\u001b[0m\u001b[0m_setitem_array\u001b[0m\u001b[0;34m(\u001b[0m\u001b[0mkey\u001b[0m\u001b[0;34m,\u001b[0m \u001b[0mvalue\u001b[0m\u001b[0;34m)\u001b[0m\u001b[0;34m\u001b[0m\u001b[0;34m\u001b[0m\u001b[0m\n\u001b[0m\u001b[1;32m   3470\u001b[0m         \u001b[0;32melse\u001b[0m\u001b[0;34m:\u001b[0m\u001b[0;34m\u001b[0m\u001b[0;34m\u001b[0m\u001b[0m\n\u001b[1;32m   3471\u001b[0m             \u001b[0;31m# set column\u001b[0m\u001b[0;34m\u001b[0m\u001b[0;34m\u001b[0m\u001b[0;34m\u001b[0m\u001b[0m\n",
      "\u001b[0;32m/Library/Frameworks/Python.framework/Versions/3.7/lib/python3.7/site-packages/pandas/core/frame.py\u001b[0m in \u001b[0;36m_setitem_array\u001b[0;34m(self, key, value)\u001b[0m\n\u001b[1;32m   3494\u001b[0m                     \u001b[0mself\u001b[0m\u001b[0;34m[\u001b[0m\u001b[0mk1\u001b[0m\u001b[0;34m]\u001b[0m \u001b[0;34m=\u001b[0m \u001b[0mvalue\u001b[0m\u001b[0;34m[\u001b[0m\u001b[0mk2\u001b[0m\u001b[0;34m]\u001b[0m\u001b[0;34m\u001b[0m\u001b[0;34m\u001b[0m\u001b[0m\n\u001b[1;32m   3495\u001b[0m             \u001b[0;32melse\u001b[0m\u001b[0;34m:\u001b[0m\u001b[0;34m\u001b[0m\u001b[0;34m\u001b[0m\u001b[0m\n\u001b[0;32m-> 3496\u001b[0;31m                 \u001b[0mindexer\u001b[0m \u001b[0;34m=\u001b[0m \u001b[0mself\u001b[0m\u001b[0;34m.\u001b[0m\u001b[0mloc\u001b[0m\u001b[0;34m.\u001b[0m\u001b[0m_convert_to_indexer\u001b[0m\u001b[0;34m(\u001b[0m\u001b[0mkey\u001b[0m\u001b[0;34m,\u001b[0m \u001b[0maxis\u001b[0m\u001b[0;34m=\u001b[0m\u001b[0;36m1\u001b[0m\u001b[0;34m)\u001b[0m\u001b[0;34m\u001b[0m\u001b[0;34m\u001b[0m\u001b[0m\n\u001b[0m\u001b[1;32m   3497\u001b[0m                 \u001b[0mself\u001b[0m\u001b[0;34m.\u001b[0m\u001b[0m_check_setitem_copy\u001b[0m\u001b[0;34m(\u001b[0m\u001b[0;34m)\u001b[0m\u001b[0;34m\u001b[0m\u001b[0;34m\u001b[0m\u001b[0m\n\u001b[1;32m   3498\u001b[0m                 \u001b[0mself\u001b[0m\u001b[0;34m.\u001b[0m\u001b[0mloc\u001b[0m\u001b[0;34m.\u001b[0m\u001b[0m_setitem_with_indexer\u001b[0m\u001b[0;34m(\u001b[0m\u001b[0;34m(\u001b[0m\u001b[0mslice\u001b[0m\u001b[0;34m(\u001b[0m\u001b[0;32mNone\u001b[0m\u001b[0;34m)\u001b[0m\u001b[0;34m,\u001b[0m \u001b[0mindexer\u001b[0m\u001b[0;34m)\u001b[0m\u001b[0;34m,\u001b[0m \u001b[0mvalue\u001b[0m\u001b[0;34m)\u001b[0m\u001b[0;34m\u001b[0m\u001b[0;34m\u001b[0m\u001b[0m\n",
      "\u001b[0;32m/Library/Frameworks/Python.framework/Versions/3.7/lib/python3.7/site-packages/pandas/core/indexing.py\u001b[0m in \u001b[0;36m_convert_to_indexer\u001b[0;34m(self, obj, axis, is_setter, raise_missing)\u001b[0m\n\u001b[1;32m   1283\u001b[0m                 \u001b[0;31m# When setting, missing keys are not allowed, even with .loc:\u001b[0m\u001b[0;34m\u001b[0m\u001b[0;34m\u001b[0m\u001b[0;34m\u001b[0m\u001b[0m\n\u001b[1;32m   1284\u001b[0m                 \u001b[0mkwargs\u001b[0m \u001b[0;34m=\u001b[0m \u001b[0;34m{\u001b[0m\u001b[0;34m\"raise_missing\"\u001b[0m\u001b[0;34m:\u001b[0m \u001b[0;32mTrue\u001b[0m \u001b[0;32mif\u001b[0m \u001b[0mis_setter\u001b[0m \u001b[0;32melse\u001b[0m \u001b[0mraise_missing\u001b[0m\u001b[0;34m}\u001b[0m\u001b[0;34m\u001b[0m\u001b[0;34m\u001b[0m\u001b[0m\n\u001b[0;32m-> 1285\u001b[0;31m                 \u001b[0;32mreturn\u001b[0m \u001b[0mself\u001b[0m\u001b[0;34m.\u001b[0m\u001b[0m_get_listlike_indexer\u001b[0m\u001b[0;34m(\u001b[0m\u001b[0mobj\u001b[0m\u001b[0;34m,\u001b[0m \u001b[0maxis\u001b[0m\u001b[0;34m,\u001b[0m \u001b[0;34m**\u001b[0m\u001b[0mkwargs\u001b[0m\u001b[0;34m)\u001b[0m\u001b[0;34m[\u001b[0m\u001b[0;36m1\u001b[0m\u001b[0;34m]\u001b[0m\u001b[0;34m\u001b[0m\u001b[0;34m\u001b[0m\u001b[0m\n\u001b[0m\u001b[1;32m   1286\u001b[0m         \u001b[0;32melse\u001b[0m\u001b[0;34m:\u001b[0m\u001b[0;34m\u001b[0m\u001b[0;34m\u001b[0m\u001b[0m\n\u001b[1;32m   1287\u001b[0m             \u001b[0;32mtry\u001b[0m\u001b[0;34m:\u001b[0m\u001b[0;34m\u001b[0m\u001b[0;34m\u001b[0m\u001b[0m\n",
      "\u001b[0;32m/Library/Frameworks/Python.framework/Versions/3.7/lib/python3.7/site-packages/pandas/core/indexing.py\u001b[0m in \u001b[0;36m_get_listlike_indexer\u001b[0;34m(self, key, axis, raise_missing)\u001b[0m\n\u001b[1;32m   1090\u001b[0m \u001b[0;34m\u001b[0m\u001b[0m\n\u001b[1;32m   1091\u001b[0m         self._validate_read_indexer(\n\u001b[0;32m-> 1092\u001b[0;31m             \u001b[0mkeyarr\u001b[0m\u001b[0;34m,\u001b[0m \u001b[0mindexer\u001b[0m\u001b[0;34m,\u001b[0m \u001b[0mo\u001b[0m\u001b[0;34m.\u001b[0m\u001b[0m_get_axis_number\u001b[0m\u001b[0;34m(\u001b[0m\u001b[0maxis\u001b[0m\u001b[0;34m)\u001b[0m\u001b[0;34m,\u001b[0m \u001b[0mraise_missing\u001b[0m\u001b[0;34m=\u001b[0m\u001b[0mraise_missing\u001b[0m\u001b[0;34m\u001b[0m\u001b[0;34m\u001b[0m\u001b[0m\n\u001b[0m\u001b[1;32m   1093\u001b[0m         )\n\u001b[1;32m   1094\u001b[0m         \u001b[0;32mreturn\u001b[0m \u001b[0mkeyarr\u001b[0m\u001b[0;34m,\u001b[0m \u001b[0mindexer\u001b[0m\u001b[0;34m\u001b[0m\u001b[0;34m\u001b[0m\u001b[0m\n",
      "\u001b[0;32m/Library/Frameworks/Python.framework/Versions/3.7/lib/python3.7/site-packages/pandas/core/indexing.py\u001b[0m in \u001b[0;36m_validate_read_indexer\u001b[0;34m(self, key, indexer, axis, raise_missing)\u001b[0m\n\u001b[1;32m   1175\u001b[0m                 raise KeyError(\n\u001b[1;32m   1176\u001b[0m                     \"None of [{key}] are in the [{axis}]\".format(\n\u001b[0;32m-> 1177\u001b[0;31m                         \u001b[0mkey\u001b[0m\u001b[0;34m=\u001b[0m\u001b[0mkey\u001b[0m\u001b[0;34m,\u001b[0m \u001b[0maxis\u001b[0m\u001b[0;34m=\u001b[0m\u001b[0mself\u001b[0m\u001b[0;34m.\u001b[0m\u001b[0mobj\u001b[0m\u001b[0;34m.\u001b[0m\u001b[0m_get_axis_name\u001b[0m\u001b[0;34m(\u001b[0m\u001b[0maxis\u001b[0m\u001b[0;34m)\u001b[0m\u001b[0;34m\u001b[0m\u001b[0;34m\u001b[0m\u001b[0m\n\u001b[0m\u001b[1;32m   1178\u001b[0m                     )\n\u001b[1;32m   1179\u001b[0m                 )\n",
      "\u001b[0;31mKeyError\u001b[0m: \"None of [Index(['test new col1', 'test new col2'], dtype='object')] are in the [columns]\""
     ]
    }
   ],
   "source": [
    "# temp\n",
    "mip_df[['test new col1', 'test new col2']] = np.full((2,len(mip_df)), 10)\n",
    "mip_df.head()"
   ]
  },
  {
   "cell_type": "code",
   "execution_count": 3,
   "metadata": {},
   "outputs": [
    {
     "data": {
      "text/plain": [
       "Unnamed: 0                                                12385\n",
       "caloId               11112018-2300-1_11112018-2300-1_3657_528.0\n",
       "chbid                                                         5\n",
       "chipid                             [10, 10, 10, 10, 10, 10, 10]\n",
       "digit                                     [2, 3, 3, 3, 1, 3, 2]\n",
       "dt            [528.0, 528.0, 528.0, 528.0, 528.0, 528.0, 528.0]\n",
       "eventId       ['11112018-2300-1_3657', '11112018-2300-1_3657...\n",
       "hardid                             [45, 44, 28, 53, 61, 36, 62]\n",
       "id            [('11112018-2300-1_3657', 528.0), ('11112018-2...\n",
       "nhits                                                         7\n",
       "xpos                 [35.0, 35.0, 37.0, 34.0, 33.0, 36.0, 33.0]\n",
       "ypos                 [29.0, 28.0, 28.0, 29.0, 29.0, 28.0, 30.0]\n",
       "zx                                                          NaN\n",
       "zx0                                                    0.057554\n",
       "zx1                                                     32.6583\n",
       "zy                                                          NaN\n",
       "zy0                                                   -0.147482\n",
       "zy1                                                     30.2194\n",
       "cl_members    [array([35., 29.]), array([35., 29.]), array([...\n",
       "Name: 3879, dtype: object"
      ]
     },
     "execution_count": 3,
     "metadata": {},
     "output_type": "execute_result"
    }
   ],
   "source": [
    "example = mip_df[(mip_df.cl_members.agg(lambda x: (len(x)-1)/18 > 6)) & (mip_df.chbid < 6)].iloc[1]\n",
    "example"
   ]
  },
  {
   "cell_type": "code",
   "execution_count": 4,
   "metadata": {},
   "outputs": [],
   "source": [
    "example = mip_df[mip_df.cl_members.agg(lambda x: len(x)==2)].iloc[2]"
   ]
  },
  {
   "cell_type": "code",
   "execution_count": 5,
   "metadata": {},
   "outputs": [],
   "source": [
    "import ast\n",
    "litX = lambda x: ast.literal_eval(x)"
   ]
  },
  {
   "cell_type": "code",
   "execution_count": 38,
   "metadata": {},
   "outputs": [],
   "source": [
    "flatten = lambda l: [item for sublist in l for item in sublist]\n"
   ]
  },
  {
   "cell_type": "code",
   "execution_count": 94,
   "metadata": {},
   "outputs": [
    {
     "data": {
      "text/plain": [
       "0        1\n",
       "1        1\n",
       "2        1\n",
       "3        1\n",
       "4        1\n",
       "        ..\n",
       "44434    2\n",
       "44435    2\n",
       "44436    1\n",
       "44437    1\n",
       "44438    1\n",
       "Name: xpos, Length: 44439, dtype: int64"
      ]
     },
     "execution_count": 94,
     "metadata": {},
     "output_type": "execute_result"
    }
   ],
   "source": [
    "mip_df.xpos.apply(lambda x: len(set(litX(x))))\n"
   ]
  },
  {
   "cell_type": "code",
   "execution_count": 7,
   "metadata": {},
   "outputs": [],
   "source": [
    "hits = [litX(example.xpos), litX(example.ypos)]\n",
    "expected = (float(example.zx0)*int(example.chbid) + float(example.zx1), float(example.zy0)*int(example.chbid) + float(example.zy1))"
   ]
  },
  {
   "cell_type": "code",
   "execution_count": 8,
   "metadata": {},
   "outputs": [
    {
     "data": {
      "text/plain": [
       "<matplotlib.collections.PathCollection at 0x122d33ba8>"
      ]
     },
     "execution_count": 8,
     "metadata": {},
     "output_type": "execute_result"
    },
    {
     "data": {
      "image/png": "[encoded data removed]",
      "text/plain": [
       "<Figure size 432x288 with 1 Axes>"
      ]
     },
     "metadata": {
      "needs_background": "light"
     },
     "output_type": "display_data"
    }
   ],
   "source": [
    "plt.scatter(hits[0], hits[1])\n",
    "plt.scatter(expected[0], expected[1])"
   ]
  },
  {
   "cell_type": "code",
   "execution_count": 64,
   "metadata": {},
   "outputs": [],
   "source": [
    "tmp = example.id.split(',')[1][1:]"
   ]
  },
  {
   "cell_type": "code",
   "execution_count": 73,
   "metadata": {},
   "outputs": [
    {
     "data": {
      "text/plain": [
       "37.0"
      ]
     },
     "execution_count": 73,
     "metadata": {},
     "output_type": "execute_result"
    }
   ],
   "source": [
    "import re\n",
    "\n",
    "\n",
    "res = float(re.findall(r'\\d+.\\d', tmp)[0] )\n",
    "res"
   ]
  },
  {
   "cell_type": "code",
   "execution_count": 78,
   "metadata": {},
   "outputs": [],
   "source": [
    "# flatten = lambda l: [item for sublist in l for item in sublist]\n",
    "\n",
    "extract = lambda x: [int(s) for s in x.split() if s.isdigit()]\n",
    "\n",
    "\n",
    "def eventDisplay(df, eventNum, timeWindow):\n",
    "    \"\"\" \n",
    "    NOT IMPLEMENTED: 3D event display \n",
    "    \"\"\"\n",
    "    df_event = df[(df.eventId.apply(lambda x: x.split(',')[0][2:-1] == eventNum)) &\n",
    "                  (df.id.apply(lambda x: float(re.findall(r'\\d+.\\d',x.split(',')[1][1:-1])[0])))]\n",
    "\n",
    "    \n",
    "    y = df_event.ypos.apply(litX)\n",
    "    x = df_event.xpos.apply(litX)\n",
    "    mult = y.apply(lambda a: len(a))\n",
    "    x = np.array(flatten(x))\n",
    "    y = np.array(flatten(y))\n",
    "    z = np.array(flatten(df_event.chbid.apply(lambda c: [int(c)])*mult))\n",
    "    thr = np.array(flatten(df_event.digit.apply(litX)))\n",
    "    \n",
    "    voxel = abs(x - y) + abs(y - z) + abs(z - x) <= 2\n",
    "\n",
    "    fig, axs = plt.subplots(2, 2, figsize=[10,10])\n",
    "    \n",
    "    hxy = axs[0, 1].hist2d(x, y, bins = [50, 50], range = [[1, 50], [1, 50]])\n",
    "    axs[0, 1].set_title('X-Y plan')\n",
    "    axs[1, 0].hist2d(z, x, bins = [8, 50], range = [[1, 9], [1, 50]])\n",
    "    axs[1, 0].set_title('Z-X plan')\n",
    "    axs[1, 1].hist2d(z, y, bins = [8, 50], range = [[1, 9], [1, 50]])\n",
    "    axs[1, 1].set_title('Z-Y plan')\n",
    "\n",
    "    plt.show()"
   ]
  },
  {
   "cell_type": "code",
   "execution_count": 86,
   "metadata": {
    "scrolled": false
   },
   "outputs": [
    {
     "data": {
      "image/png": "[encoded data removed]",
      "text/plain": [
       "<Figure size 720x720 with 4 Axes>"
      ]
     },
     "metadata": {
      "needs_background": "light"
     },
     "output_type": "display_data"
    }
   ],
   "source": [
    "eventDisplay(mip_df, '12112018-0051-1_670', 16.0)"
   ]
  },
  {
   "cell_type": "code",
   "execution_count": 85,
   "metadata": {},
   "outputs": [
    {
     "data": {
      "text/plain": [
       "Unnamed: 0                                                29659\n",
       "caloId                 12112018-0051-1_12112018-0051-1_670_16.0\n",
       "chbid                                                         5\n",
       "chipid                                       [2, 2, 11, 11, 11]\n",
       "digit                                           [2, 1, 2, 2, 2]\n",
       "dt                               [15.0, 15.0, 16.0, 16.0, 16.0]\n",
       "eventId       ['12112018-0051-1_670', '12112018-0051-1_670',...\n",
       "hardid                                     [56, 48, 23, 31, 22]\n",
       "id            [('12112018-0051-1_670', 15.0), ('12112018-005...\n",
       "nhits                                                         5\n",
       "xpos                             [29.0, 30.0, 30.0, 29.0, 30.0]\n",
       "ypos                             [32.0, 32.0, 31.0, 31.0, 30.0]\n",
       "zx                                                          NaN\n",
       "zx0                                                   0.0576923\n",
       "zx1                                                     29.6581\n",
       "zy                                                          NaN\n",
       "zy0                                                  -0.0384615\n",
       "zy1                                                     30.3761\n",
       "cl_members    [array([29., 32.]), array([29., 32.]), array([...\n",
       "Name: 15788, dtype: object"
      ]
     },
     "execution_count": 85,
     "metadata": {},
     "output_type": "execute_result"
    }
   ],
   "source": [
    "mip_df[(mip_df.cl_members.agg(lambda x: (len(x)-1)/18 > 6)) & (mip_df.chbid < 6)].iloc[3]"
   ]
  },
  {
   "cell_type": "code",
   "execution_count": 27,
   "metadata": {},
   "outputs": [
    {
     "data": {
      "text/plain": [
       "array([[19.32799976, 19.36038348, 19.34731768,  7.98686207,  1.58921296,\n",
       "        19.4442105 , 18.34839309]])"
      ]
     },
     "execution_count": 27,
     "metadata": {},
     "output_type": "execute_result"
    }
   ],
   "source": [
    "from scipy.spatial.distance import cdist\n",
    "cdist(np.array([np.array(expected)]), np.array(hits).T)"
   ]
  },
  {
   "cell_type": "code",
   "execution_count": 30,
   "metadata": {},
   "outputs": [
    {
     "data": {
      "text/plain": [
       "array([4])"
      ]
     },
     "execution_count": 30,
     "metadata": {},
     "output_type": "execute_result"
    }
   ],
   "source": [
    "np.where(cdist(np.array([np.array(expected)]), np.array(hits).T) < 2)[1]"
   ]
  },
  {
   "cell_type": "code",
   "execution_count": 32,
   "metadata": {},
   "outputs": [
    {
     "data": {
      "text/plain": [
       "7"
      ]
     },
     "execution_count": 32,
     "metadata": {},
     "output_type": "execute_result"
    }
   ],
   "source": [
    " np.array(hits).T.shape[0]"
   ]
  },
  {
   "cell_type": "code",
   "execution_count": 49,
   "metadata": {},
   "outputs": [
    {
     "name": "stdout",
     "output_type": "stream",
     "text": [
      "(7, 2)\n",
      "(1, 2)\n"
     ]
    }
   ],
   "source": [
    "def seeding(hits, p, radius=2):\n",
    "    print(np.array([p]).shape)\n",
    "    seed = np.where(cdist(np.array([p]), hits) < radius)[1]\n",
    "    return seed\n",
    "\n",
    "def isLinked(hits, a, b, history=np.array([])):\n",
    "    children = connections[1][connections[0] == a]\n",
    "    if children.shape[0] == 0:\n",
    "        return False\n",
    "    elif b in children:\n",
    "        return True\n",
    "    else:\n",
    "        children = np.setdiff1d(children, history)\n",
    "        ans = False\n",
    "\n",
    "        new_hist =  np.concatenate((children, history))\n",
    "        for child in children:\n",
    "            ans = ans or isLinked(hits, child, b, new_hist)\n",
    "            if ans:\n",
    "                return ans\n",
    "        return ans\n",
    "\n",
    "hits = [litX(example.xpos), litX(example.ypos)]\n",
    "expected = (float(example.zx0)*int(example.chbid) + float(example.zx1), float(example.zy0)*int(example.chbid) + float(example.zy1))\n",
    "hits = np.array(hits).T\n",
    "print(hits.shape)\n",
    "connections = np.where(cdist(hits, hits) == 1)\n",
    "seed = seeding(hits, expected, 2)\n",
    "members = []\n",
    "if len(seed) == 0:\n",
    "    print(\"no seed found!\")\n",
    "\n",
    "for i in range(hits.shape[0]):\n",
    "    if i == seed[0]:\n",
    "        members.append(hits[i])\n",
    "    if isLinked(hits, seed[0],i):\n",
    "        members.append(hits[i])\n"
   ]
  },
  {
   "cell_type": "code",
   "execution_count": 50,
   "metadata": {},
   "outputs": [
    {
     "data": {
      "text/plain": [
       "[array([28., 27.])]"
      ]
     },
     "execution_count": 50,
     "metadata": {},
     "output_type": "execute_result"
    }
   ],
   "source": [
    "members"
   ]
  },
  {
   "cell_type": "code",
   "execution_count": null,
   "metadata": {},
   "outputs": [],
   "source": []
  }
 ],
 "metadata": {
  "kernelspec": {
   "display_name": "Python 3",
   "language": "python",
   "name": "python3"
  },
  "language_info": {
   "codemirror_mode": {
    "name": "ipython",
    "version": 3
   },
   "file_extension": ".py",
   "mimetype": "text/x-python",
   "name": "python",
   "nbconvert_exporter": "python",
   "pygments_lexer": "ipython3",
   "version": "3.7.2"
  },
  "toc": {
   "base_numbering": 1,
   "nav_menu": {},
   "number_sections": true,
   "sideBar": true,
   "skip_h1_title": false,
   "title_cell": "Table of Contents",
   "title_sidebar": "Contents",
   "toc_cell": false,
   "toc_position": {},
   "toc_section_display": true,
   "toc_window_display": false
  }
 },
 "nbformat": 4,
 "nbformat_minor": 2
}
